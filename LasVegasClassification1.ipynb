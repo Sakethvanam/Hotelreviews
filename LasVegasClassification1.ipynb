{
 "cells": [
  {
   "cell_type": "code",
   "execution_count": 7,
   "metadata": {},
   "outputs": [],
   "source": [
    "import pandas as pd\n",
    "import numpy as np\n",
    "import matplotlib.pyplot as plt\n",
    "import seaborn as sns\n",
    "import statsmodels.formula.api as smf\n",
    "from sklearn.model_selection import train_test_split\n",
    "from sklearn.preprocessing import LabelEncoder\n",
    "from sklearn import metrics\n",
    "from sklearn.metrics import roc_auc_score,roc_curve\n",
    "from sklearn.linear_model import LogisticRegression\n",
    "from statsmodels.stats.outliers_influence import variance_inflation_factor"
   ]
  },
  {
   "cell_type": "code",
   "execution_count": 8,
   "metadata": {},
   "outputs": [],
   "source": [
    "data=pd.read_csv('C:/Users/marut/Desktop/LasVegasTripAdvisorReviews.csv',sep=';', lineterminator='\\n')"
   ]
  },
  {
   "cell_type": "markdown",
   "metadata": {},
   "source": [
    "### Task-1 Data Cleaning and Peparation"
   ]
  },
  {
   "cell_type": "code",
   "execution_count": 9,
   "metadata": {},
   "outputs": [
    {
     "data": {
      "text/html": [
       "<div>\n",
       "<style scoped>\n",
       "    .dataframe tbody tr th:only-of-type {\n",
       "        vertical-align: middle;\n",
       "    }\n",
       "\n",
       "    .dataframe tbody tr th {\n",
       "        vertical-align: top;\n",
       "    }\n",
       "\n",
       "    .dataframe thead th {\n",
       "        text-align: right;\n",
       "    }\n",
       "</style>\n",
       "<table border=\"1\" class=\"dataframe\">\n",
       "  <thead>\n",
       "    <tr style=\"text-align: right;\">\n",
       "      <th></th>\n",
       "      <th>User country</th>\n",
       "      <th>Nr. reviews</th>\n",
       "      <th>Nr. hotel reviews</th>\n",
       "      <th>Helpful votes</th>\n",
       "      <th>Score</th>\n",
       "      <th>Period of stay</th>\n",
       "      <th>Traveler type</th>\n",
       "      <th>Pool</th>\n",
       "      <th>Gym</th>\n",
       "      <th>Tennis court</th>\n",
       "      <th>Spa</th>\n",
       "      <th>Casino</th>\n",
       "      <th>Free internet</th>\n",
       "      <th>Hotel name</th>\n",
       "      <th>Hotel stars</th>\n",
       "      <th>Nr. rooms</th>\n",
       "      <th>User continent</th>\n",
       "      <th>Member years</th>\n",
       "      <th>Review month</th>\n",
       "      <th>Review weekday\\r</th>\n",
       "    </tr>\n",
       "  </thead>\n",
       "  <tbody>\n",
       "    <tr>\n",
       "      <th>0</th>\n",
       "      <td>USA</td>\n",
       "      <td>11</td>\n",
       "      <td>4</td>\n",
       "      <td>13</td>\n",
       "      <td>5</td>\n",
       "      <td>Dec-Feb</td>\n",
       "      <td>Friends</td>\n",
       "      <td>NO</td>\n",
       "      <td>YES</td>\n",
       "      <td>NO</td>\n",
       "      <td>NO</td>\n",
       "      <td>YES</td>\n",
       "      <td>YES</td>\n",
       "      <td>Circus Circus Hotel &amp; Casino Las Vegas</td>\n",
       "      <td>3</td>\n",
       "      <td>3773</td>\n",
       "      <td>North America</td>\n",
       "      <td>9</td>\n",
       "      <td>January</td>\n",
       "      <td>Thursday\\r</td>\n",
       "    </tr>\n",
       "    <tr>\n",
       "      <th>1</th>\n",
       "      <td>USA</td>\n",
       "      <td>119</td>\n",
       "      <td>21</td>\n",
       "      <td>75</td>\n",
       "      <td>3</td>\n",
       "      <td>Dec-Feb</td>\n",
       "      <td>Business</td>\n",
       "      <td>NO</td>\n",
       "      <td>YES</td>\n",
       "      <td>NO</td>\n",
       "      <td>NO</td>\n",
       "      <td>YES</td>\n",
       "      <td>YES</td>\n",
       "      <td>Circus Circus Hotel &amp; Casino Las Vegas</td>\n",
       "      <td>3</td>\n",
       "      <td>3773</td>\n",
       "      <td>North America</td>\n",
       "      <td>3</td>\n",
       "      <td>January</td>\n",
       "      <td>Friday\\r</td>\n",
       "    </tr>\n",
       "    <tr>\n",
       "      <th>2</th>\n",
       "      <td>USA</td>\n",
       "      <td>36</td>\n",
       "      <td>9</td>\n",
       "      <td>25</td>\n",
       "      <td>5</td>\n",
       "      <td>Mar-May</td>\n",
       "      <td>Families</td>\n",
       "      <td>NO</td>\n",
       "      <td>YES</td>\n",
       "      <td>NO</td>\n",
       "      <td>NO</td>\n",
       "      <td>YES</td>\n",
       "      <td>YES</td>\n",
       "      <td>Circus Circus Hotel &amp; Casino Las Vegas</td>\n",
       "      <td>3</td>\n",
       "      <td>3773</td>\n",
       "      <td>North America</td>\n",
       "      <td>2</td>\n",
       "      <td>February</td>\n",
       "      <td>Saturday\\r</td>\n",
       "    </tr>\n",
       "    <tr>\n",
       "      <th>3</th>\n",
       "      <td>UK</td>\n",
       "      <td>14</td>\n",
       "      <td>7</td>\n",
       "      <td>14</td>\n",
       "      <td>4</td>\n",
       "      <td>Mar-May</td>\n",
       "      <td>Friends</td>\n",
       "      <td>NO</td>\n",
       "      <td>YES</td>\n",
       "      <td>NO</td>\n",
       "      <td>NO</td>\n",
       "      <td>YES</td>\n",
       "      <td>YES</td>\n",
       "      <td>Circus Circus Hotel &amp; Casino Las Vegas</td>\n",
       "      <td>3</td>\n",
       "      <td>3773</td>\n",
       "      <td>Europe</td>\n",
       "      <td>6</td>\n",
       "      <td>February</td>\n",
       "      <td>Friday\\r</td>\n",
       "    </tr>\n",
       "    <tr>\n",
       "      <th>4</th>\n",
       "      <td>Canada</td>\n",
       "      <td>5</td>\n",
       "      <td>5</td>\n",
       "      <td>2</td>\n",
       "      <td>4</td>\n",
       "      <td>Mar-May</td>\n",
       "      <td>Solo</td>\n",
       "      <td>NO</td>\n",
       "      <td>YES</td>\n",
       "      <td>NO</td>\n",
       "      <td>NO</td>\n",
       "      <td>YES</td>\n",
       "      <td>YES</td>\n",
       "      <td>Circus Circus Hotel &amp; Casino Las Vegas</td>\n",
       "      <td>3</td>\n",
       "      <td>3773</td>\n",
       "      <td>North America</td>\n",
       "      <td>7</td>\n",
       "      <td>March</td>\n",
       "      <td>Tuesday\\r</td>\n",
       "    </tr>\n",
       "  </tbody>\n",
       "</table>\n",
       "</div>"
      ],
      "text/plain": [
       "  User country  Nr. reviews  Nr. hotel reviews  Helpful votes  Score  \\\n",
       "0          USA           11                  4             13      5   \n",
       "1          USA          119                 21             75      3   \n",
       "2          USA           36                  9             25      5   \n",
       "3           UK           14                  7             14      4   \n",
       "4       Canada            5                  5              2      4   \n",
       "\n",
       "  Period of stay Traveler type Pool  Gym Tennis court Spa Casino  \\\n",
       "0        Dec-Feb       Friends   NO  YES           NO  NO    YES   \n",
       "1        Dec-Feb      Business   NO  YES           NO  NO    YES   \n",
       "2        Mar-May      Families   NO  YES           NO  NO    YES   \n",
       "3        Mar-May       Friends   NO  YES           NO  NO    YES   \n",
       "4        Mar-May          Solo   NO  YES           NO  NO    YES   \n",
       "\n",
       "  Free internet                              Hotel name Hotel stars  \\\n",
       "0           YES  Circus Circus Hotel & Casino Las Vegas           3   \n",
       "1           YES  Circus Circus Hotel & Casino Las Vegas           3   \n",
       "2           YES  Circus Circus Hotel & Casino Las Vegas           3   \n",
       "3           YES  Circus Circus Hotel & Casino Las Vegas           3   \n",
       "4           YES  Circus Circus Hotel & Casino Las Vegas           3   \n",
       "\n",
       "   Nr. rooms User continent  Member years Review month Review weekday\\r  \n",
       "0       3773  North America             9      January       Thursday\\r  \n",
       "1       3773  North America             3      January         Friday\\r  \n",
       "2       3773  North America             2     February       Saturday\\r  \n",
       "3       3773         Europe             6     February         Friday\\r  \n",
       "4       3773  North America             7        March        Tuesday\\r  "
      ]
     },
     "execution_count": 9,
     "metadata": {},
     "output_type": "execute_result"
    }
   ],
   "source": [
    "data.head()"
   ]
  },
  {
   "cell_type": "code",
   "execution_count": 10,
   "metadata": {},
   "outputs": [
    {
     "data": {
      "text/plain": [
       "(504, 20)"
      ]
     },
     "execution_count": 10,
     "metadata": {},
     "output_type": "execute_result"
    }
   ],
   "source": [
    "data.shape"
   ]
  },
  {
   "cell_type": "code",
   "execution_count": 19,
   "metadata": {},
   "outputs": [
    {
     "data": {
      "text/html": [
       "<div>\n",
       "<style scoped>\n",
       "    .dataframe tbody tr th:only-of-type {\n",
       "        vertical-align: middle;\n",
       "    }\n",
       "\n",
       "    .dataframe tbody tr th {\n",
       "        vertical-align: top;\n",
       "    }\n",
       "\n",
       "    .dataframe thead th {\n",
       "        text-align: right;\n",
       "    }\n",
       "</style>\n",
       "<table border=\"1\" class=\"dataframe\">\n",
       "  <thead>\n",
       "    <tr style=\"text-align: right;\">\n",
       "      <th></th>\n",
       "      <th>User_country</th>\n",
       "      <th>No_of_reviews</th>\n",
       "      <th>No_of_hotelreviews</th>\n",
       "      <th>Helpful_votes</th>\n",
       "      <th>Score</th>\n",
       "      <th>Period_of_stay</th>\n",
       "      <th>Traveler_type</th>\n",
       "      <th>Pool</th>\n",
       "      <th>Gym</th>\n",
       "      <th>Tennis_court</th>\n",
       "      <th>Spa</th>\n",
       "      <th>Casino</th>\n",
       "      <th>Free_internet</th>\n",
       "      <th>Hotel_name</th>\n",
       "      <th>hotelstar</th>\n",
       "      <th>No_of_rooms</th>\n",
       "      <th>User_continent</th>\n",
       "      <th>Member_years</th>\n",
       "      <th>Review_month</th>\n",
       "      <th>Review_weekday</th>\n",
       "    </tr>\n",
       "  </thead>\n",
       "  <tbody>\n",
       "    <tr>\n",
       "      <th>0</th>\n",
       "      <td>USA</td>\n",
       "      <td>11</td>\n",
       "      <td>4</td>\n",
       "      <td>13</td>\n",
       "      <td>5</td>\n",
       "      <td>Dec-Feb</td>\n",
       "      <td>Friends</td>\n",
       "      <td>NO</td>\n",
       "      <td>YES</td>\n",
       "      <td>NO</td>\n",
       "      <td>NO</td>\n",
       "      <td>YES</td>\n",
       "      <td>YES</td>\n",
       "      <td>Circus Circus Hotel &amp; Casino Las Vegas</td>\n",
       "      <td>3</td>\n",
       "      <td>3773</td>\n",
       "      <td>North America</td>\n",
       "      <td>9</td>\n",
       "      <td>January</td>\n",
       "      <td>Thursday</td>\n",
       "    </tr>\n",
       "    <tr>\n",
       "      <th>1</th>\n",
       "      <td>USA</td>\n",
       "      <td>119</td>\n",
       "      <td>21</td>\n",
       "      <td>75</td>\n",
       "      <td>3</td>\n",
       "      <td>Dec-Feb</td>\n",
       "      <td>Business</td>\n",
       "      <td>NO</td>\n",
       "      <td>YES</td>\n",
       "      <td>NO</td>\n",
       "      <td>NO</td>\n",
       "      <td>YES</td>\n",
       "      <td>YES</td>\n",
       "      <td>Circus Circus Hotel &amp; Casino Las Vegas</td>\n",
       "      <td>3</td>\n",
       "      <td>3773</td>\n",
       "      <td>North America</td>\n",
       "      <td>3</td>\n",
       "      <td>January</td>\n",
       "      <td>Friday</td>\n",
       "    </tr>\n",
       "    <tr>\n",
       "      <th>2</th>\n",
       "      <td>USA</td>\n",
       "      <td>36</td>\n",
       "      <td>9</td>\n",
       "      <td>25</td>\n",
       "      <td>5</td>\n",
       "      <td>Mar-May</td>\n",
       "      <td>Families</td>\n",
       "      <td>NO</td>\n",
       "      <td>YES</td>\n",
       "      <td>NO</td>\n",
       "      <td>NO</td>\n",
       "      <td>YES</td>\n",
       "      <td>YES</td>\n",
       "      <td>Circus Circus Hotel &amp; Casino Las Vegas</td>\n",
       "      <td>3</td>\n",
       "      <td>3773</td>\n",
       "      <td>North America</td>\n",
       "      <td>2</td>\n",
       "      <td>February</td>\n",
       "      <td>Saturday</td>\n",
       "    </tr>\n",
       "    <tr>\n",
       "      <th>3</th>\n",
       "      <td>UK</td>\n",
       "      <td>14</td>\n",
       "      <td>7</td>\n",
       "      <td>14</td>\n",
       "      <td>4</td>\n",
       "      <td>Mar-May</td>\n",
       "      <td>Friends</td>\n",
       "      <td>NO</td>\n",
       "      <td>YES</td>\n",
       "      <td>NO</td>\n",
       "      <td>NO</td>\n",
       "      <td>YES</td>\n",
       "      <td>YES</td>\n",
       "      <td>Circus Circus Hotel &amp; Casino Las Vegas</td>\n",
       "      <td>3</td>\n",
       "      <td>3773</td>\n",
       "      <td>Europe</td>\n",
       "      <td>6</td>\n",
       "      <td>February</td>\n",
       "      <td>Friday</td>\n",
       "    </tr>\n",
       "    <tr>\n",
       "      <th>4</th>\n",
       "      <td>Canada</td>\n",
       "      <td>5</td>\n",
       "      <td>5</td>\n",
       "      <td>2</td>\n",
       "      <td>4</td>\n",
       "      <td>Mar-May</td>\n",
       "      <td>Solo</td>\n",
       "      <td>NO</td>\n",
       "      <td>YES</td>\n",
       "      <td>NO</td>\n",
       "      <td>NO</td>\n",
       "      <td>YES</td>\n",
       "      <td>YES</td>\n",
       "      <td>Circus Circus Hotel &amp; Casino Las Vegas</td>\n",
       "      <td>3</td>\n",
       "      <td>3773</td>\n",
       "      <td>North America</td>\n",
       "      <td>7</td>\n",
       "      <td>March</td>\n",
       "      <td>Tuesday</td>\n",
       "    </tr>\n",
       "  </tbody>\n",
       "</table>\n",
       "</div>"
      ],
      "text/plain": [
       "  User_country  No_of_reviews  No_of_hotelreviews  Helpful_votes  Score  \\\n",
       "0          USA             11                   4             13      5   \n",
       "1          USA            119                  21             75      3   \n",
       "2          USA             36                   9             25      5   \n",
       "3           UK             14                   7             14      4   \n",
       "4       Canada              5                   5              2      4   \n",
       "\n",
       "  Period_of_stay Traveler_type Pool  Gym Tennis_court Spa Casino  \\\n",
       "0        Dec-Feb       Friends   NO  YES           NO  NO    YES   \n",
       "1        Dec-Feb      Business   NO  YES           NO  NO    YES   \n",
       "2        Mar-May      Families   NO  YES           NO  NO    YES   \n",
       "3        Mar-May       Friends   NO  YES           NO  NO    YES   \n",
       "4        Mar-May          Solo   NO  YES           NO  NO    YES   \n",
       "\n",
       "  Free_internet                              Hotel_name hotelstar  \\\n",
       "0           YES  Circus Circus Hotel & Casino Las Vegas         3   \n",
       "1           YES  Circus Circus Hotel & Casino Las Vegas         3   \n",
       "2           YES  Circus Circus Hotel & Casino Las Vegas         3   \n",
       "3           YES  Circus Circus Hotel & Casino Las Vegas         3   \n",
       "4           YES  Circus Circus Hotel & Casino Las Vegas         3   \n",
       "\n",
       "   No_of_rooms User_continent  Member_years Review_month Review_weekday  \n",
       "0         3773  North America             9      January       Thursday  \n",
       "1         3773  North America             3      January         Friday  \n",
       "2         3773  North America             2     February       Saturday  \n",
       "3         3773         Europe             6     February         Friday  \n",
       "4         3773  North America             7        March        Tuesday  "
      ]
     },
     "execution_count": 19,
     "metadata": {},
     "output_type": "execute_result"
    }
   ],
   "source": [
    "data.head()"
   ]
  },
  {
   "cell_type": "code",
   "execution_count": 15,
   "metadata": {},
   "outputs": [],
   "source": [
    "data.columns=data.columns.str.replace('\\r','')"
   ]
  },
  {
   "cell_type": "code",
   "execution_count": 17,
   "metadata": {},
   "outputs": [],
   "source": [
    "### Renaming the column names \n",
    "data=data.rename(columns={'User country':'User_country','Nr. reviews':'No_of_reviews','Nr. hotel reviews':'No_of_hotelreviews','Helpful votes':'Helpful_votes','Period of stay':'Period_of_stay','Traveler type':'Traveler_type','Tennis court':'Tennis_court','Free internet':'Free_internet','Hotel name':'Hotel_name','Hotel stars':'hotelstar','Nr. rooms':'No_of_rooms','User continent':'User_continent','Member years':'Member_years','Review month':'Review_month','Review weekday':'Review_weekday'})"
   ]
  },
  {
   "cell_type": "code",
   "execution_count": 18,
   "metadata": {},
   "outputs": [],
   "source": [
    "data.Review_weekday=data.Review_weekday.str.replace('\\r','')"
   ]
  },
  {
   "cell_type": "code",
   "execution_count": 20,
   "metadata": {},
   "outputs": [
    {
     "data": {
      "text/plain": [
       "Index(['User_country', 'No_of_reviews', 'No_of_hotelreviews', 'Helpful_votes',\n",
       "       'Score', 'Period_of_stay', 'Traveler_type', 'Pool', 'Gym',\n",
       "       'Tennis_court', 'Spa', 'Casino', 'Free_internet', 'Hotel_name',\n",
       "       'hotelstar', 'No_of_rooms', 'User_continent', 'Member_years',\n",
       "       'Review_month', 'Review_weekday'],\n",
       "      dtype='object')"
      ]
     },
     "execution_count": 20,
     "metadata": {},
     "output_type": "execute_result"
    }
   ],
   "source": [
    "data.columns"
   ]
  },
  {
   "cell_type": "code",
   "execution_count": 21,
   "metadata": {},
   "outputs": [
    {
     "data": {
      "text/plain": [
       "User_country          object\n",
       "No_of_reviews          int64\n",
       "No_of_hotelreviews     int64\n",
       "Helpful_votes          int64\n",
       "Score                  int64\n",
       "Period_of_stay        object\n",
       "Traveler_type         object\n",
       "Pool                  object\n",
       "Gym                   object\n",
       "Tennis_court          object\n",
       "Spa                   object\n",
       "Casino                object\n",
       "Free_internet         object\n",
       "Hotel_name            object\n",
       "hotelstar             object\n",
       "No_of_rooms            int64\n",
       "User_continent        object\n",
       "Member_years           int64\n",
       "Review_month          object\n",
       "Review_weekday        object\n",
       "dtype: object"
      ]
     },
     "execution_count": 21,
     "metadata": {},
     "output_type": "execute_result"
    }
   ],
   "source": [
    "data.dtypes"
   ]
  },
  {
   "cell_type": "code",
   "execution_count": 22,
   "metadata": {},
   "outputs": [
    {
     "data": {
      "text/plain": [
       "array([dtype('O'), dtype('int64')], dtype=object)"
      ]
     },
     "execution_count": 22,
     "metadata": {},
     "output_type": "execute_result"
    }
   ],
   "source": [
    "data.dtypes.unique()"
   ]
  },
  {
   "cell_type": "markdown",
   "metadata": {},
   "source": [
    "### Seperating Categorical and Numeric variables"
   ]
  },
  {
   "cell_type": "code",
   "execution_count": 23,
   "metadata": {},
   "outputs": [],
   "source": [
    "cont_variables=data.select_dtypes(include='int64')\n",
    "cat_variables=data.select_dtypes(include=['O','object'])"
   ]
  },
  {
   "cell_type": "code",
   "execution_count": 24,
   "metadata": {},
   "outputs": [
    {
     "data": {
      "text/html": [
       "<div>\n",
       "<style scoped>\n",
       "    .dataframe tbody tr th:only-of-type {\n",
       "        vertical-align: middle;\n",
       "    }\n",
       "\n",
       "    .dataframe tbody tr th {\n",
       "        vertical-align: top;\n",
       "    }\n",
       "\n",
       "    .dataframe thead th {\n",
       "        text-align: right;\n",
       "    }\n",
       "</style>\n",
       "<table border=\"1\" class=\"dataframe\">\n",
       "  <thead>\n",
       "    <tr style=\"text-align: right;\">\n",
       "      <th></th>\n",
       "      <th>No_of_reviews</th>\n",
       "      <th>No_of_hotelreviews</th>\n",
       "      <th>Helpful_votes</th>\n",
       "      <th>Score</th>\n",
       "      <th>No_of_rooms</th>\n",
       "      <th>Member_years</th>\n",
       "    </tr>\n",
       "  </thead>\n",
       "  <tbody>\n",
       "    <tr>\n",
       "      <th>count</th>\n",
       "      <td>504.000000</td>\n",
       "      <td>504.000000</td>\n",
       "      <td>504.000000</td>\n",
       "      <td>504.000000</td>\n",
       "      <td>504.000000</td>\n",
       "      <td>504.000000</td>\n",
       "    </tr>\n",
       "    <tr>\n",
       "      <th>mean</th>\n",
       "      <td>48.130952</td>\n",
       "      <td>16.023810</td>\n",
       "      <td>31.751984</td>\n",
       "      <td>4.123016</td>\n",
       "      <td>2196.380952</td>\n",
       "      <td>0.767857</td>\n",
       "    </tr>\n",
       "    <tr>\n",
       "      <th>std</th>\n",
       "      <td>74.996426</td>\n",
       "      <td>23.957953</td>\n",
       "      <td>48.520783</td>\n",
       "      <td>1.007302</td>\n",
       "      <td>1285.476807</td>\n",
       "      <td>80.692897</td>\n",
       "    </tr>\n",
       "    <tr>\n",
       "      <th>min</th>\n",
       "      <td>1.000000</td>\n",
       "      <td>0.000000</td>\n",
       "      <td>0.000000</td>\n",
       "      <td>1.000000</td>\n",
       "      <td>188.000000</td>\n",
       "      <td>-1806.000000</td>\n",
       "    </tr>\n",
       "    <tr>\n",
       "      <th>25%</th>\n",
       "      <td>12.000000</td>\n",
       "      <td>5.000000</td>\n",
       "      <td>8.000000</td>\n",
       "      <td>4.000000</td>\n",
       "      <td>826.000000</td>\n",
       "      <td>2.000000</td>\n",
       "    </tr>\n",
       "    <tr>\n",
       "      <th>50%</th>\n",
       "      <td>23.500000</td>\n",
       "      <td>9.000000</td>\n",
       "      <td>16.000000</td>\n",
       "      <td>4.000000</td>\n",
       "      <td>2700.000000</td>\n",
       "      <td>4.000000</td>\n",
       "    </tr>\n",
       "    <tr>\n",
       "      <th>75%</th>\n",
       "      <td>54.250000</td>\n",
       "      <td>18.000000</td>\n",
       "      <td>35.000000</td>\n",
       "      <td>5.000000</td>\n",
       "      <td>3025.000000</td>\n",
       "      <td>6.000000</td>\n",
       "    </tr>\n",
       "    <tr>\n",
       "      <th>max</th>\n",
       "      <td>775.000000</td>\n",
       "      <td>263.000000</td>\n",
       "      <td>365.000000</td>\n",
       "      <td>5.000000</td>\n",
       "      <td>4027.000000</td>\n",
       "      <td>13.000000</td>\n",
       "    </tr>\n",
       "  </tbody>\n",
       "</table>\n",
       "</div>"
      ],
      "text/plain": [
       "       No_of_reviews  No_of_hotelreviews  Helpful_votes       Score  \\\n",
       "count     504.000000          504.000000     504.000000  504.000000   \n",
       "mean       48.130952           16.023810      31.751984    4.123016   \n",
       "std        74.996426           23.957953      48.520783    1.007302   \n",
       "min         1.000000            0.000000       0.000000    1.000000   \n",
       "25%        12.000000            5.000000       8.000000    4.000000   \n",
       "50%        23.500000            9.000000      16.000000    4.000000   \n",
       "75%        54.250000           18.000000      35.000000    5.000000   \n",
       "max       775.000000          263.000000     365.000000    5.000000   \n",
       "\n",
       "       No_of_rooms  Member_years  \n",
       "count   504.000000    504.000000  \n",
       "mean   2196.380952      0.767857  \n",
       "std    1285.476807     80.692897  \n",
       "min     188.000000  -1806.000000  \n",
       "25%     826.000000      2.000000  \n",
       "50%    2700.000000      4.000000  \n",
       "75%    3025.000000      6.000000  \n",
       "max    4027.000000     13.000000  "
      ]
     },
     "execution_count": 24,
     "metadata": {},
     "output_type": "execute_result"
    }
   ],
   "source": [
    "cont_variables.describe()"
   ]
  },
  {
   "cell_type": "code",
   "execution_count": 25,
   "metadata": {},
   "outputs": [
    {
     "data": {
      "text/html": [
       "<div>\n",
       "<style scoped>\n",
       "    .dataframe tbody tr th:only-of-type {\n",
       "        vertical-align: middle;\n",
       "    }\n",
       "\n",
       "    .dataframe tbody tr th {\n",
       "        vertical-align: top;\n",
       "    }\n",
       "\n",
       "    .dataframe thead th {\n",
       "        text-align: right;\n",
       "    }\n",
       "</style>\n",
       "<table border=\"1\" class=\"dataframe\">\n",
       "  <thead>\n",
       "    <tr style=\"text-align: right;\">\n",
       "      <th></th>\n",
       "      <th>User_country</th>\n",
       "      <th>Period_of_stay</th>\n",
       "      <th>Traveler_type</th>\n",
       "      <th>Pool</th>\n",
       "      <th>Gym</th>\n",
       "      <th>Tennis_court</th>\n",
       "      <th>Spa</th>\n",
       "      <th>Casino</th>\n",
       "      <th>Free_internet</th>\n",
       "      <th>Hotel_name</th>\n",
       "      <th>hotelstar</th>\n",
       "      <th>User_continent</th>\n",
       "      <th>Review_month</th>\n",
       "      <th>Review_weekday</th>\n",
       "    </tr>\n",
       "  </thead>\n",
       "  <tbody>\n",
       "    <tr>\n",
       "      <th>count</th>\n",
       "      <td>504</td>\n",
       "      <td>504</td>\n",
       "      <td>504</td>\n",
       "      <td>504</td>\n",
       "      <td>504</td>\n",
       "      <td>504</td>\n",
       "      <td>504</td>\n",
       "      <td>504</td>\n",
       "      <td>504</td>\n",
       "      <td>504</td>\n",
       "      <td>504</td>\n",
       "      <td>504</td>\n",
       "      <td>504</td>\n",
       "      <td>504</td>\n",
       "    </tr>\n",
       "    <tr>\n",
       "      <th>unique</th>\n",
       "      <td>48</td>\n",
       "      <td>4</td>\n",
       "      <td>5</td>\n",
       "      <td>2</td>\n",
       "      <td>2</td>\n",
       "      <td>2</td>\n",
       "      <td>2</td>\n",
       "      <td>2</td>\n",
       "      <td>2</td>\n",
       "      <td>21</td>\n",
       "      <td>5</td>\n",
       "      <td>6</td>\n",
       "      <td>12</td>\n",
       "      <td>7</td>\n",
       "    </tr>\n",
       "    <tr>\n",
       "      <th>top</th>\n",
       "      <td>USA</td>\n",
       "      <td>Mar-May</td>\n",
       "      <td>Couples</td>\n",
       "      <td>YES</td>\n",
       "      <td>YES</td>\n",
       "      <td>NO</td>\n",
       "      <td>YES</td>\n",
       "      <td>YES</td>\n",
       "      <td>YES</td>\n",
       "      <td>The Palazzo Resort Hotel Casino</td>\n",
       "      <td>5</td>\n",
       "      <td>North America</td>\n",
       "      <td>February</td>\n",
       "      <td>Wednesday</td>\n",
       "    </tr>\n",
       "    <tr>\n",
       "      <th>freq</th>\n",
       "      <td>217</td>\n",
       "      <td>128</td>\n",
       "      <td>214</td>\n",
       "      <td>480</td>\n",
       "      <td>480</td>\n",
       "      <td>384</td>\n",
       "      <td>384</td>\n",
       "      <td>456</td>\n",
       "      <td>480</td>\n",
       "      <td>24</td>\n",
       "      <td>192</td>\n",
       "      <td>295</td>\n",
       "      <td>42</td>\n",
       "      <td>85</td>\n",
       "    </tr>\n",
       "  </tbody>\n",
       "</table>\n",
       "</div>"
      ],
      "text/plain": [
       "       User_country Period_of_stay Traveler_type Pool  Gym Tennis_court  Spa  \\\n",
       "count           504            504           504  504  504          504  504   \n",
       "unique           48              4             5    2    2            2    2   \n",
       "top             USA        Mar-May       Couples  YES  YES           NO  YES   \n",
       "freq            217            128           214  480  480          384  384   \n",
       "\n",
       "       Casino Free_internet                       Hotel_name hotelstar  \\\n",
       "count     504           504                              504       504   \n",
       "unique      2             2                               21         5   \n",
       "top       YES           YES  The Palazzo Resort Hotel Casino         5   \n",
       "freq      456           480                               24       192   \n",
       "\n",
       "       User_continent Review_month Review_weekday  \n",
       "count             504          504            504  \n",
       "unique              6           12              7  \n",
       "top     North America     February      Wednesday  \n",
       "freq              295           42             85  "
      ]
     },
     "execution_count": 25,
     "metadata": {},
     "output_type": "execute_result"
    }
   ],
   "source": [
    "cat_variables.describe()"
   ]
  },
  {
   "cell_type": "code",
   "execution_count": 26,
   "metadata": {},
   "outputs": [
    {
     "data": {
      "text/plain": [
       "No_of_reviews         0\n",
       "No_of_hotelreviews    0\n",
       "Helpful_votes         0\n",
       "Score                 0\n",
       "No_of_rooms           0\n",
       "Member_years          0\n",
       "dtype: int64"
      ]
     },
     "execution_count": 26,
     "metadata": {},
     "output_type": "execute_result"
    }
   ],
   "source": [
    "cont_variables.isna().sum()"
   ]
  },
  {
   "cell_type": "code",
   "execution_count": 27,
   "metadata": {},
   "outputs": [
    {
     "data": {
      "text/plain": [
       "User_country      0\n",
       "Period_of_stay    0\n",
       "Traveler_type     0\n",
       "Pool              0\n",
       "Gym               0\n",
       "Tennis_court      0\n",
       "Spa               0\n",
       "Casino            0\n",
       "Free_internet     0\n",
       "Hotel_name        0\n",
       "hotelstar         0\n",
       "User_continent    0\n",
       "Review_month      0\n",
       "Review_weekday    0\n",
       "dtype: int64"
      ]
     },
     "execution_count": 27,
     "metadata": {},
     "output_type": "execute_result"
    }
   ],
   "source": [
    "cat_variables.isna().sum()"
   ]
  },
  {
   "cell_type": "code",
   "execution_count": 28,
   "metadata": {},
   "outputs": [
    {
     "data": {
      "text/plain": [
       "array([5, 3, 4, 2, 1], dtype=int64)"
      ]
     },
     "execution_count": 28,
     "metadata": {},
     "output_type": "execute_result"
    }
   ],
   "source": [
    "cont_variables.Score.unique()"
   ]
  },
  {
   "cell_type": "code",
   "execution_count": 29,
   "metadata": {},
   "outputs": [
    {
     "data": {
      "text/plain": [
       "Index(['User_country', 'Period_of_stay', 'Traveler_type', 'Pool', 'Gym',\n",
       "       'Tennis_court', 'Spa', 'Casino', 'Free_internet', 'Hotel_name',\n",
       "       'hotelstar', 'User_continent', 'Review_month', 'Review_weekday'],\n",
       "      dtype='object')"
      ]
     },
     "execution_count": 29,
     "metadata": {},
     "output_type": "execute_result"
    }
   ],
   "source": [
    "cat_variables.columns"
   ]
  },
  {
   "cell_type": "code",
   "execution_count": 30,
   "metadata": {},
   "outputs": [
    {
     "name": "stderr",
     "output_type": "stream",
     "text": [
      "<ipython-input-30-daf6f438e3fe>:4: SettingWithCopyWarning: \n",
      "A value is trying to be set on a copy of a slice from a DataFrame.\n",
      "Try using .loc[row_indexer,col_indexer] = value instead\n",
      "\n",
      "See the caveats in the documentation: https://pandas.pydata.org/pandas-docs/stable/user_guide/indexing.html#returning-a-view-versus-a-copy\n",
      "  cont_variables[col] = pd.to_numeric(cont_variables[col])\n"
     ]
    },
    {
     "data": {
      "image/png": "[encoded data removed]",
      "text/plain": [
       "<Figure size 432x288 with 1 Axes>"
      ]
     },
     "metadata": {
      "needs_background": "light"
     },
     "output_type": "display_data"
    },
    {
     "data": {
      "image/png": "[encoded data removed]",
      "text/plain": [
       "<Figure size 432x288 with 1 Axes>"
      ]
     },
     "metadata": {
      "needs_background": "light"
     },
     "output_type": "display_data"
    },
    {
     "data": {
      "image/png": "[encoded data removed]",
      "text/plain": [
       "<Figure size 432x288 with 1 Axes>"
      ]
     },
     "metadata": {
      "needs_background": "light"
     },
     "output_type": "display_data"
    },
    {
     "data": {
      "image/png": "[encoded data removed]",
      "text/plain": [
       "<Figure size 432x288 with 1 Axes>"
      ]
     },
     "metadata": {
      "needs_background": "light"
     },
     "output_type": "display_data"
    },
    {
     "data": {
      "image/png": "[encoded data removed]",
      "text/plain": [
       "<Figure size 432x288 with 1 Axes>"
      ]
     },
     "metadata": {
      "needs_background": "light"
     },
     "output_type": "display_data"
    },
    {
     "data": {
      "image/png": "[encoded data removed]",
      "text/plain": [
       "<Figure size 432x288 with 1 Axes>"
      ]
     },
     "metadata": {
      "needs_background": "light"
     },
     "output_type": "display_data"
    }
   ],
   "source": [
    "###Plotting histogram for all continous columns\n",
    "for col in cont_variables.columns: \n",
    "    try:      \n",
    "        cont_variables[col] = pd.to_numeric(cont_variables[col]) \n",
    "        cont_variables.hist(column=col)\n",
    "    except ValueError:\n",
    "        print('This column can not be represented as a histogram')"
   ]
  },
  {
   "cell_type": "code",
   "execution_count": 31,
   "metadata": {},
   "outputs": [
    {
     "data": {
      "text/html": [
       "<div>\n",
       "<style scoped>\n",
       "    .dataframe tbody tr th:only-of-type {\n",
       "        vertical-align: middle;\n",
       "    }\n",
       "\n",
       "    .dataframe tbody tr th {\n",
       "        vertical-align: top;\n",
       "    }\n",
       "\n",
       "    .dataframe thead th {\n",
       "        text-align: right;\n",
       "    }\n",
       "</style>\n",
       "<table border=\"1\" class=\"dataframe\">\n",
       "  <thead>\n",
       "    <tr style=\"text-align: right;\">\n",
       "      <th></th>\n",
       "      <th>N</th>\n",
       "      <th>NMISS</th>\n",
       "      <th>SUM</th>\n",
       "      <th>MEAN</th>\n",
       "      <th>MEDIAN</th>\n",
       "      <th>STD</th>\n",
       "      <th>VAR</th>\n",
       "      <th>MIN</th>\n",
       "      <th>P1</th>\n",
       "      <th>P5</th>\n",
       "      <th>P10</th>\n",
       "      <th>P25</th>\n",
       "      <th>P50</th>\n",
       "      <th>P75</th>\n",
       "      <th>P90</th>\n",
       "      <th>P95</th>\n",
       "      <th>P99</th>\n",
       "      <th>MAX</th>\n",
       "    </tr>\n",
       "  </thead>\n",
       "  <tbody>\n",
       "    <tr>\n",
       "      <th>No_of_reviews</th>\n",
       "      <td>504.0</td>\n",
       "      <td>0.0</td>\n",
       "      <td>24258.0</td>\n",
       "      <td>48.130952</td>\n",
       "      <td>23.5</td>\n",
       "      <td>74.996426</td>\n",
       "      <td>5.624464e+03</td>\n",
       "      <td>1.0</td>\n",
       "      <td>1.03</td>\n",
       "      <td>4.0</td>\n",
       "      <td>6.0</td>\n",
       "      <td>12.0</td>\n",
       "      <td>23.5</td>\n",
       "      <td>54.25</td>\n",
       "      <td>113.7</td>\n",
       "      <td>159.85</td>\n",
       "      <td>370.83</td>\n",
       "      <td>775.0</td>\n",
       "    </tr>\n",
       "    <tr>\n",
       "      <th>No_of_hotelreviews</th>\n",
       "      <td>504.0</td>\n",
       "      <td>0.0</td>\n",
       "      <td>8076.0</td>\n",
       "      <td>16.023810</td>\n",
       "      <td>9.0</td>\n",
       "      <td>23.957953</td>\n",
       "      <td>5.739835e+02</td>\n",
       "      <td>0.0</td>\n",
       "      <td>0.00</td>\n",
       "      <td>3.0</td>\n",
       "      <td>3.0</td>\n",
       "      <td>5.0</td>\n",
       "      <td>9.0</td>\n",
       "      <td>18.00</td>\n",
       "      <td>37.0</td>\n",
       "      <td>48.00</td>\n",
       "      <td>110.88</td>\n",
       "      <td>263.0</td>\n",
       "    </tr>\n",
       "    <tr>\n",
       "      <th>Helpful_votes</th>\n",
       "      <td>504.0</td>\n",
       "      <td>0.0</td>\n",
       "      <td>16003.0</td>\n",
       "      <td>31.751984</td>\n",
       "      <td>16.0</td>\n",
       "      <td>48.520783</td>\n",
       "      <td>2.354266e+03</td>\n",
       "      <td>0.0</td>\n",
       "      <td>1.00</td>\n",
       "      <td>2.0</td>\n",
       "      <td>3.0</td>\n",
       "      <td>8.0</td>\n",
       "      <td>16.0</td>\n",
       "      <td>35.00</td>\n",
       "      <td>71.7</td>\n",
       "      <td>112.85</td>\n",
       "      <td>298.04</td>\n",
       "      <td>365.0</td>\n",
       "    </tr>\n",
       "    <tr>\n",
       "      <th>Score</th>\n",
       "      <td>504.0</td>\n",
       "      <td>0.0</td>\n",
       "      <td>2078.0</td>\n",
       "      <td>4.123016</td>\n",
       "      <td>4.0</td>\n",
       "      <td>1.007302</td>\n",
       "      <td>1.014658e+00</td>\n",
       "      <td>1.0</td>\n",
       "      <td>1.00</td>\n",
       "      <td>2.0</td>\n",
       "      <td>3.0</td>\n",
       "      <td>4.0</td>\n",
       "      <td>4.0</td>\n",
       "      <td>5.00</td>\n",
       "      <td>5.0</td>\n",
       "      <td>5.00</td>\n",
       "      <td>5.00</td>\n",
       "      <td>5.0</td>\n",
       "    </tr>\n",
       "    <tr>\n",
       "      <th>No_of_rooms</th>\n",
       "      <td>504.0</td>\n",
       "      <td>0.0</td>\n",
       "      <td>1106976.0</td>\n",
       "      <td>2196.380952</td>\n",
       "      <td>2700.0</td>\n",
       "      <td>1285.476807</td>\n",
       "      <td>1.652451e+06</td>\n",
       "      <td>188.0</td>\n",
       "      <td>188.00</td>\n",
       "      <td>315.0</td>\n",
       "      <td>716.0</td>\n",
       "      <td>826.0</td>\n",
       "      <td>2700.0</td>\n",
       "      <td>3025.00</td>\n",
       "      <td>3933.0</td>\n",
       "      <td>3981.00</td>\n",
       "      <td>4027.00</td>\n",
       "      <td>4027.0</td>\n",
       "    </tr>\n",
       "    <tr>\n",
       "      <th>Member_years</th>\n",
       "      <td>504.0</td>\n",
       "      <td>0.0</td>\n",
       "      <td>387.0</td>\n",
       "      <td>0.767857</td>\n",
       "      <td>4.0</td>\n",
       "      <td>80.692897</td>\n",
       "      <td>6.511344e+03</td>\n",
       "      <td>-1806.0</td>\n",
       "      <td>0.00</td>\n",
       "      <td>0.0</td>\n",
       "      <td>1.0</td>\n",
       "      <td>2.0</td>\n",
       "      <td>4.0</td>\n",
       "      <td>6.00</td>\n",
       "      <td>8.7</td>\n",
       "      <td>10.00</td>\n",
       "      <td>11.00</td>\n",
       "      <td>13.0</td>\n",
       "    </tr>\n",
       "  </tbody>\n",
       "</table>\n",
       "</div>"
      ],
      "text/plain": [
       "                        N  NMISS        SUM         MEAN  MEDIAN          STD  \\\n",
       "No_of_reviews       504.0    0.0    24258.0    48.130952    23.5    74.996426   \n",
       "No_of_hotelreviews  504.0    0.0     8076.0    16.023810     9.0    23.957953   \n",
       "Helpful_votes       504.0    0.0    16003.0    31.751984    16.0    48.520783   \n",
       "Score               504.0    0.0     2078.0     4.123016     4.0     1.007302   \n",
       "No_of_rooms         504.0    0.0  1106976.0  2196.380952  2700.0  1285.476807   \n",
       "Member_years        504.0    0.0      387.0     0.767857     4.0    80.692897   \n",
       "\n",
       "                             VAR     MIN      P1     P5    P10    P25     P50  \\\n",
       "No_of_reviews       5.624464e+03     1.0    1.03    4.0    6.0   12.0    23.5   \n",
       "No_of_hotelreviews  5.739835e+02     0.0    0.00    3.0    3.0    5.0     9.0   \n",
       "Helpful_votes       2.354266e+03     0.0    1.00    2.0    3.0    8.0    16.0   \n",
       "Score               1.014658e+00     1.0    1.00    2.0    3.0    4.0     4.0   \n",
       "No_of_rooms         1.652451e+06   188.0  188.00  315.0  716.0  826.0  2700.0   \n",
       "Member_years        6.511344e+03 -1806.0    0.00    0.0    1.0    2.0     4.0   \n",
       "\n",
       "                        P75     P90      P95      P99     MAX  \n",
       "No_of_reviews         54.25   113.7   159.85   370.83   775.0  \n",
       "No_of_hotelreviews    18.00    37.0    48.00   110.88   263.0  \n",
       "Helpful_votes         35.00    71.7   112.85   298.04   365.0  \n",
       "Score                  5.00     5.0     5.00     5.00     5.0  \n",
       "No_of_rooms         3025.00  3933.0  3981.00  4027.00  4027.0  \n",
       "Member_years           6.00     8.7    10.00    11.00    13.0  "
      ]
     },
     "execution_count": 31,
     "metadata": {},
     "output_type": "execute_result"
    }
   ],
   "source": [
    "# Creating Data audit Report\n",
    "# Use a general function that returns multiple values\n",
    "def var_summary(x):\n",
    "    return pd.Series([x.count(), x.isnull().sum(), x.sum(), x.mean(), x.median(),  x.std(), x.var(), x.min(), x.quantile(0.01), x.quantile(0.05),x.quantile(0.10),x.quantile(0.25),x.quantile(0.50),x.quantile(0.75), x.quantile(0.90),x.quantile(0.95), x.quantile(0.99),x.max()], \n",
    "                  index=['N', 'NMISS', 'SUM', 'MEAN','MEDIAN', 'STD', 'VAR', 'MIN', 'P1' , 'P5' ,'P10' ,'P25' ,'P50' ,'P75' ,'P90' ,'P95' ,'P99' ,'MAX'])\n",
    "\n",
    "\n",
    "cont_variables.apply(lambda x: var_summary(x)).T"
   ]
  },
  {
   "cell_type": "code",
   "execution_count": 38,
   "metadata": {},
   "outputs": [
    {
     "data": {
      "text/plain": [
       "Index(['User_country', 'Period_of_stay', 'Traveler_type', 'Pool', 'Gym',\n",
       "       'Tennis_court', 'Spa', 'Casino', 'Free_internet', 'Hotel_name',\n",
       "       'hotelstar', 'User_continent', 'Review_month', 'Review_weekday'],\n",
       "      dtype='object')"
      ]
     },
     "execution_count": 38,
     "metadata": {},
     "output_type": "execute_result"
    }
   ],
   "source": [
    "cat_variables.columns"
   ]
  },
  {
   "cell_type": "code",
   "execution_count": 33,
   "metadata": {},
   "outputs": [
    {
     "data": {
      "text/plain": [
       "array(['USA', 'UK', 'Canada', 'India', 'Australia', 'New Zeland',\n",
       "       'Ireland', 'Egypt', 'Finland', 'Kenya', 'Jordan', 'Netherlands',\n",
       "       'Syria', 'Scotland', 'South Africa', 'Swiss',\n",
       "       'United Arab Emirates', 'Hungary', 'China', 'Greece', 'Mexico',\n",
       "       'Croatia', 'Germany', 'Malaysia', 'Thailand', 'Phillippines',\n",
       "       'Israel', 'India ', 'Belgium', 'Puerto Rico', 'Switzerland',\n",
       "       'Norway', 'France', 'Spain', 'Singapore', 'Brazil', 'Costa Rica',\n",
       "       'Iran', 'Saudi Arabia', 'Honduras', 'Denmark', 'Taiwan', 'Hawaii',\n",
       "       'Kuwait', 'Czech Republic', 'Japan', 'Korea', 'Italy'],\n",
       "      dtype=object)"
      ]
     },
     "execution_count": 33,
     "metadata": {},
     "output_type": "execute_result"
    }
   ],
   "source": [
    "cat_variables.User_country.unique()"
   ]
  },
  {
   "cell_type": "code",
   "execution_count": 34,
   "metadata": {},
   "outputs": [],
   "source": [
    "### Converting the categorical columns to numeric\n",
    "\n",
    "from sklearn.preprocessing import LabelEncoder\n",
    "le=LabelEncoder()\n",
    "cat_variables_encoded=cat_variables.apply(le.fit_transform)"
   ]
  },
  {
   "cell_type": "code",
   "execution_count": 39,
   "metadata": {},
   "outputs": [],
   "source": [
    "cat_variables_encoded.columns\n",
    "cat_variables_encoded=pd.DataFrame(cat_variables_encoded)"
   ]
  },
  {
   "cell_type": "code",
   "execution_count": 40,
   "metadata": {},
   "outputs": [],
   "source": [
    "cont_variables=pd.DataFrame(cont_variables)"
   ]
  },
  {
   "cell_type": "code",
   "execution_count": 37,
   "metadata": {},
   "outputs": [],
   "source": [
    "final_data=pd.concat([cont_variables,cat_variables_encoded],axis=1)"
   ]
  },
  {
   "cell_type": "code",
   "execution_count": 41,
   "metadata": {},
   "outputs": [
    {
     "data": {
      "text/html": [
       "<div>\n",
       "<style scoped>\n",
       "    .dataframe tbody tr th:only-of-type {\n",
       "        vertical-align: middle;\n",
       "    }\n",
       "\n",
       "    .dataframe tbody tr th {\n",
       "        vertical-align: top;\n",
       "    }\n",
       "\n",
       "    .dataframe thead th {\n",
       "        text-align: right;\n",
       "    }\n",
       "</style>\n",
       "<table border=\"1\" class=\"dataframe\">\n",
       "  <thead>\n",
       "    <tr style=\"text-align: right;\">\n",
       "      <th></th>\n",
       "      <th>No_of_reviews</th>\n",
       "      <th>No_of_hotelreviews</th>\n",
       "      <th>Helpful_votes</th>\n",
       "      <th>Score</th>\n",
       "      <th>No_of_rooms</th>\n",
       "      <th>Member_years</th>\n",
       "      <th>User_country</th>\n",
       "      <th>Period_of_stay</th>\n",
       "      <th>Traveler_type</th>\n",
       "      <th>Pool</th>\n",
       "      <th>Gym</th>\n",
       "      <th>Tennis_court</th>\n",
       "      <th>Spa</th>\n",
       "      <th>Casino</th>\n",
       "      <th>Free_internet</th>\n",
       "      <th>Hotel_name</th>\n",
       "      <th>hotelstar</th>\n",
       "      <th>User_continent</th>\n",
       "      <th>Review_month</th>\n",
       "      <th>Review_weekday</th>\n",
       "    </tr>\n",
       "  </thead>\n",
       "  <tbody>\n",
       "    <tr>\n",
       "      <th>0</th>\n",
       "      <td>11</td>\n",
       "      <td>4</td>\n",
       "      <td>13</td>\n",
       "      <td>5</td>\n",
       "      <td>3773</td>\n",
       "      <td>9</td>\n",
       "      <td>46</td>\n",
       "      <td>0</td>\n",
       "      <td>3</td>\n",
       "      <td>0</td>\n",
       "      <td>1</td>\n",
       "      <td>0</td>\n",
       "      <td>0</td>\n",
       "      <td>1</td>\n",
       "      <td>1</td>\n",
       "      <td>2</td>\n",
       "      <td>0</td>\n",
       "      <td>3</td>\n",
       "      <td>4</td>\n",
       "      <td>4</td>\n",
       "    </tr>\n",
       "    <tr>\n",
       "      <th>1</th>\n",
       "      <td>119</td>\n",
       "      <td>21</td>\n",
       "      <td>75</td>\n",
       "      <td>3</td>\n",
       "      <td>3773</td>\n",
       "      <td>3</td>\n",
       "      <td>46</td>\n",
       "      <td>0</td>\n",
       "      <td>0</td>\n",
       "      <td>0</td>\n",
       "      <td>1</td>\n",
       "      <td>0</td>\n",
       "      <td>0</td>\n",
       "      <td>1</td>\n",
       "      <td>1</td>\n",
       "      <td>2</td>\n",
       "      <td>0</td>\n",
       "      <td>3</td>\n",
       "      <td>4</td>\n",
       "      <td>0</td>\n",
       "    </tr>\n",
       "    <tr>\n",
       "      <th>2</th>\n",
       "      <td>36</td>\n",
       "      <td>9</td>\n",
       "      <td>25</td>\n",
       "      <td>5</td>\n",
       "      <td>3773</td>\n",
       "      <td>2</td>\n",
       "      <td>46</td>\n",
       "      <td>2</td>\n",
       "      <td>2</td>\n",
       "      <td>0</td>\n",
       "      <td>1</td>\n",
       "      <td>0</td>\n",
       "      <td>0</td>\n",
       "      <td>1</td>\n",
       "      <td>1</td>\n",
       "      <td>2</td>\n",
       "      <td>0</td>\n",
       "      <td>3</td>\n",
       "      <td>3</td>\n",
       "      <td>2</td>\n",
       "    </tr>\n",
       "    <tr>\n",
       "      <th>3</th>\n",
       "      <td>14</td>\n",
       "      <td>7</td>\n",
       "      <td>14</td>\n",
       "      <td>4</td>\n",
       "      <td>3773</td>\n",
       "      <td>6</td>\n",
       "      <td>45</td>\n",
       "      <td>2</td>\n",
       "      <td>3</td>\n",
       "      <td>0</td>\n",
       "      <td>1</td>\n",
       "      <td>0</td>\n",
       "      <td>0</td>\n",
       "      <td>1</td>\n",
       "      <td>1</td>\n",
       "      <td>2</td>\n",
       "      <td>0</td>\n",
       "      <td>2</td>\n",
       "      <td>3</td>\n",
       "      <td>0</td>\n",
       "    </tr>\n",
       "    <tr>\n",
       "      <th>4</th>\n",
       "      <td>5</td>\n",
       "      <td>5</td>\n",
       "      <td>2</td>\n",
       "      <td>4</td>\n",
       "      <td>3773</td>\n",
       "      <td>7</td>\n",
       "      <td>3</td>\n",
       "      <td>2</td>\n",
       "      <td>4</td>\n",
       "      <td>0</td>\n",
       "      <td>1</td>\n",
       "      <td>0</td>\n",
       "      <td>0</td>\n",
       "      <td>1</td>\n",
       "      <td>1</td>\n",
       "      <td>2</td>\n",
       "      <td>0</td>\n",
       "      <td>3</td>\n",
       "      <td>7</td>\n",
       "      <td>5</td>\n",
       "    </tr>\n",
       "  </tbody>\n",
       "</table>\n",
       "</div>"
      ],
      "text/plain": [
       "   No_of_reviews  No_of_hotelreviews  Helpful_votes  Score  No_of_rooms  \\\n",
       "0             11                   4             13      5         3773   \n",
       "1            119                  21             75      3         3773   \n",
       "2             36                   9             25      5         3773   \n",
       "3             14                   7             14      4         3773   \n",
       "4              5                   5              2      4         3773   \n",
       "\n",
       "   Member_years  User_country  Period_of_stay  Traveler_type  Pool  Gym  \\\n",
       "0             9            46               0              3     0    1   \n",
       "1             3            46               0              0     0    1   \n",
       "2             2            46               2              2     0    1   \n",
       "3             6            45               2              3     0    1   \n",
       "4             7             3               2              4     0    1   \n",
       "\n",
       "   Tennis_court  Spa  Casino  Free_internet  Hotel_name  hotelstar  \\\n",
       "0             0    0       1              1           2          0   \n",
       "1             0    0       1              1           2          0   \n",
       "2             0    0       1              1           2          0   \n",
       "3             0    0       1              1           2          0   \n",
       "4             0    0       1              1           2          0   \n",
       "\n",
       "   User_continent  Review_month  Review_weekday  \n",
       "0               3             4               4  \n",
       "1               3             4               0  \n",
       "2               3             3               2  \n",
       "3               2             3               0  \n",
       "4               3             7               5  "
      ]
     },
     "execution_count": 41,
     "metadata": {},
     "output_type": "execute_result"
    }
   ],
   "source": [
    "final_data.head()"
   ]
  },
  {
   "cell_type": "code",
   "execution_count": 42,
   "metadata": {},
   "outputs": [],
   "source": [
    "###Seperating the target variable\n",
    "#Extracting target and independent variables\n",
    "X = final_data[final_data.columns.difference( ['Score'] )]\n",
    "y = final_data['Score']"
   ]
  },
  {
   "cell_type": "code",
   "execution_count": 44,
   "metadata": {},
   "outputs": [
    {
     "data": {
      "text/plain": [
       "Index(['Free_internet', 'Helpful_votes', 'Hotel_name', 'No_of_hotelreviews',\n",
       "       'No_of_reviews', 'Pool', 'Review_month', 'Review_weekday',\n",
       "       'User_continent', 'hotelstar'],\n",
       "      dtype='object')"
      ]
     },
     "execution_count": 44,
     "metadata": {},
     "output_type": "execute_result"
    }
   ],
   "source": [
    "#SelectKbest\n",
    "from sklearn.feature_selection import SelectKBest, f_classif\n",
    "SKB = SelectKBest(f_classif, k=10).fit(X, y )\n",
    "\n",
    "X.columns[SKB.get_support()]"
   ]
  },
  {
   "cell_type": "markdown",
   "metadata": {},
   "source": [
    "### Data Exploration"
   ]
  },
  {
   "cell_type": "code",
   "execution_count": 45,
   "metadata": {},
   "outputs": [
    {
     "data": {
      "text/html": [
       "<div>\n",
       "<style scoped>\n",
       "    .dataframe tbody tr th:only-of-type {\n",
       "        vertical-align: middle;\n",
       "    }\n",
       "\n",
       "    .dataframe tbody tr th {\n",
       "        vertical-align: top;\n",
       "    }\n",
       "\n",
       "    .dataframe thead th {\n",
       "        text-align: right;\n",
       "    }\n",
       "</style>\n",
       "<table border=\"1\" class=\"dataframe\">\n",
       "  <thead>\n",
       "    <tr style=\"text-align: right;\">\n",
       "      <th></th>\n",
       "      <th>count</th>\n",
       "      <th>mean</th>\n",
       "      <th>std</th>\n",
       "      <th>min</th>\n",
       "      <th>25%</th>\n",
       "      <th>50%</th>\n",
       "      <th>75%</th>\n",
       "      <th>max</th>\n",
       "    </tr>\n",
       "  </thead>\n",
       "  <tbody>\n",
       "    <tr>\n",
       "      <th>No_of_reviews</th>\n",
       "      <td>504.0</td>\n",
       "      <td>48.130952</td>\n",
       "      <td>74.996426</td>\n",
       "      <td>1.0</td>\n",
       "      <td>12.0</td>\n",
       "      <td>23.5</td>\n",
       "      <td>54.25</td>\n",
       "      <td>775.0</td>\n",
       "    </tr>\n",
       "    <tr>\n",
       "      <th>No_of_hotelreviews</th>\n",
       "      <td>504.0</td>\n",
       "      <td>16.023810</td>\n",
       "      <td>23.957953</td>\n",
       "      <td>0.0</td>\n",
       "      <td>5.0</td>\n",
       "      <td>9.0</td>\n",
       "      <td>18.00</td>\n",
       "      <td>263.0</td>\n",
       "    </tr>\n",
       "    <tr>\n",
       "      <th>Helpful_votes</th>\n",
       "      <td>504.0</td>\n",
       "      <td>31.751984</td>\n",
       "      <td>48.520783</td>\n",
       "      <td>0.0</td>\n",
       "      <td>8.0</td>\n",
       "      <td>16.0</td>\n",
       "      <td>35.00</td>\n",
       "      <td>365.0</td>\n",
       "    </tr>\n",
       "    <tr>\n",
       "      <th>Score</th>\n",
       "      <td>504.0</td>\n",
       "      <td>4.123016</td>\n",
       "      <td>1.007302</td>\n",
       "      <td>1.0</td>\n",
       "      <td>4.0</td>\n",
       "      <td>4.0</td>\n",
       "      <td>5.00</td>\n",
       "      <td>5.0</td>\n",
       "    </tr>\n",
       "    <tr>\n",
       "      <th>No_of_rooms</th>\n",
       "      <td>504.0</td>\n",
       "      <td>2196.380952</td>\n",
       "      <td>1285.476807</td>\n",
       "      <td>188.0</td>\n",
       "      <td>826.0</td>\n",
       "      <td>2700.0</td>\n",
       "      <td>3025.00</td>\n",
       "      <td>4027.0</td>\n",
       "    </tr>\n",
       "    <tr>\n",
       "      <th>Member_years</th>\n",
       "      <td>504.0</td>\n",
       "      <td>0.767857</td>\n",
       "      <td>80.692897</td>\n",
       "      <td>-1806.0</td>\n",
       "      <td>2.0</td>\n",
       "      <td>4.0</td>\n",
       "      <td>6.00</td>\n",
       "      <td>13.0</td>\n",
       "    </tr>\n",
       "  </tbody>\n",
       "</table>\n",
       "</div>"
      ],
      "text/plain": [
       "                    count         mean          std     min    25%     50%  \\\n",
       "No_of_reviews       504.0    48.130952    74.996426     1.0   12.0    23.5   \n",
       "No_of_hotelreviews  504.0    16.023810    23.957953     0.0    5.0     9.0   \n",
       "Helpful_votes       504.0    31.751984    48.520783     0.0    8.0    16.0   \n",
       "Score               504.0     4.123016     1.007302     1.0    4.0     4.0   \n",
       "No_of_rooms         504.0  2196.380952  1285.476807   188.0  826.0  2700.0   \n",
       "Member_years        504.0     0.767857    80.692897 -1806.0    2.0     4.0   \n",
       "\n",
       "                        75%     max  \n",
       "No_of_reviews         54.25   775.0  \n",
       "No_of_hotelreviews    18.00   263.0  \n",
       "Helpful_votes         35.00   365.0  \n",
       "Score                  5.00     5.0  \n",
       "No_of_rooms         3025.00  4027.0  \n",
       "Member_years           6.00    13.0  "
      ]
     },
     "execution_count": 45,
     "metadata": {},
     "output_type": "execute_result"
    }
   ],
   "source": [
    "cont_variables.describe().T"
   ]
  },
  {
   "cell_type": "code",
   "execution_count": 46,
   "metadata": {},
   "outputs": [
    {
     "name": "stdout",
     "output_type": "stream",
     "text": [
      "Column name is: No_of_reviews and it value is: 20     18\n",
      "12     16\n",
      "4      15\n",
      "9      15\n",
      "11     15\n",
      "       ..\n",
      "118     1\n",
      "121     1\n",
      "123     1\n",
      "125     1\n",
      "74      1\n",
      "Name: No_of_reviews, Length: 139, dtype: int64\n",
      "\n",
      "Column name is: No_of_hotelreviews and it value is: 3      53\n",
      "7      34\n",
      "4      33\n",
      "6      32\n",
      "5      31\n",
      "       ..\n",
      "56      1\n",
      "26      1\n",
      "49      1\n",
      "44      1\n",
      "162     1\n",
      "Name: No_of_hotelreviews, Length: 64, dtype: int64\n",
      "\n",
      "Column name is: Helpful_votes and it value is: 4      21\n",
      "8      20\n",
      "16     19\n",
      "9      19\n",
      "3      18\n",
      "       ..\n",
      "98      1\n",
      "65      1\n",
      "102     1\n",
      "103     1\n",
      "365     1\n",
      "Name: Helpful_votes, Length: 109, dtype: int64\n",
      "\n",
      "Column name is: Score and it value is: 5    227\n",
      "4    164\n",
      "3     72\n",
      "2     30\n",
      "1     11\n",
      "Name: Score, dtype: int64\n",
      "\n",
      "Column name is: No_of_rooms and it value is: 2034    24\n",
      "787     24\n",
      "2700    24\n",
      "188     24\n",
      "3773    24\n",
      "1228    24\n",
      "732     24\n",
      "4027    24\n",
      "1282    24\n",
      "716     24\n",
      "3348    24\n",
      "3025    24\n",
      "826     24\n",
      "315     24\n",
      "2884    24\n",
      "3933    24\n",
      "2916    24\n",
      "3981    24\n",
      "2959    24\n",
      "3003    24\n",
      "1467    24\n",
      "Name: No_of_rooms, dtype: int64\n",
      "\n",
      "Column name is: Member_years and it value is:  3       63\n",
      " 1       61\n",
      " 5       60\n",
      " 4       60\n",
      " 2       55\n",
      " 7       41\n",
      " 6       41\n",
      " 0       39\n",
      " 8       32\n",
      " 9       21\n",
      " 10      19\n",
      " 11       8\n",
      " 12       2\n",
      "-1806     1\n",
      " 13       1\n",
      "Name: Member_years, dtype: int64\n",
      "\n"
     ]
    }
   ],
   "source": [
    "for i in cont_variables.columns:\n",
    "    x = cont_variables[i].value_counts()\n",
    "    print(\"Column name is:\",i,\"and it value is:\",x)\n",
    "    print()"
   ]
  },
  {
   "cell_type": "code",
   "execution_count": 47,
   "metadata": {},
   "outputs": [
    {
     "name": "stdout",
     "output_type": "stream",
     "text": [
      "\n",
      "No_of_reviews\n",
      "20     18\n",
      "12     16\n",
      "4      15\n",
      "9      15\n",
      "11     15\n",
      "       ..\n",
      "118     1\n",
      "121     1\n",
      "123     1\n",
      "125     1\n",
      "74      1\n",
      "Name: No_of_reviews, Length: 139, dtype: int64\n",
      "\n",
      "No_of_hotelreviews\n",
      "3      53\n",
      "7      34\n",
      "4      33\n",
      "6      32\n",
      "5      31\n",
      "       ..\n",
      "56      1\n",
      "26      1\n",
      "49      1\n",
      "44      1\n",
      "162     1\n",
      "Name: No_of_hotelreviews, Length: 64, dtype: int64\n",
      "\n",
      "Helpful_votes\n",
      "4      21\n",
      "8      20\n",
      "16     19\n",
      "9      19\n",
      "3      18\n",
      "       ..\n",
      "98      1\n",
      "65      1\n",
      "102     1\n",
      "103     1\n",
      "365     1\n",
      "Name: Helpful_votes, Length: 109, dtype: int64\n",
      "\n",
      "Score\n",
      "5    227\n",
      "4    164\n",
      "3     72\n",
      "2     30\n",
      "1     11\n",
      "Name: Score, dtype: int64\n",
      "\n",
      "No_of_rooms\n",
      "2034    24\n",
      "787     24\n",
      "2700    24\n",
      "188     24\n",
      "3773    24\n",
      "1228    24\n",
      "732     24\n",
      "4027    24\n",
      "1282    24\n",
      "716     24\n",
      "3348    24\n",
      "3025    24\n",
      "826     24\n",
      "315     24\n",
      "2884    24\n",
      "3933    24\n",
      "2916    24\n",
      "3981    24\n",
      "2959    24\n",
      "3003    24\n",
      "1467    24\n",
      "Name: No_of_rooms, dtype: int64\n",
      "\n",
      "Member_years\n",
      " 3       63\n",
      " 1       61\n",
      " 5       60\n",
      " 4       60\n",
      " 2       55\n",
      " 7       41\n",
      " 6       41\n",
      " 0       39\n",
      " 8       32\n",
      " 9       21\n",
      " 10      19\n",
      " 11       8\n",
      " 12       2\n",
      "-1806     1\n",
      " 13       1\n",
      "Name: Member_years, dtype: int64\n"
     ]
    }
   ],
   "source": [
    "for column in cont_variables.columns:\n",
    "     print(\"\\n\" + column)\n",
    "     print(cont_variables[column].value_counts())"
   ]
  },
  {
   "cell_type": "code",
   "execution_count": 48,
   "metadata": {},
   "outputs": [
    {
     "data": {
      "image/png": "[encoded data removed]",
      "text/plain": [
       "<Figure size 432x288 with 2 Axes>"
      ]
     },
     "metadata": {
      "needs_background": "light"
     },
     "output_type": "display_data"
    }
   ],
   "source": [
    "### Corelation matrix\n",
    "corr = final_data.corr()\n",
    "ax = sns.heatmap(\n",
    "    corr, \n",
    "    vmin=-1, vmax=1, center=0,\n",
    "    cmap=sns.diverging_palette(20, 220, n=200),\n",
    "    square=True\n",
    ")\n",
    "ax.set_xticklabels(\n",
    "    ax.get_xticklabels(),\n",
    "    rotation=45,\n",
    "    horizontalalignment='right'\n",
    ");"
   ]
  },
  {
   "cell_type": "code",
   "execution_count": 49,
   "metadata": {},
   "outputs": [
    {
     "name": "stderr",
     "output_type": "stream",
     "text": [
      "C:\\Users\\marut\\anaconda3\\lib\\site-packages\\pandas\\plotting\\_matplotlib\\hist.py:404: MatplotlibDeprecationWarning: Support for uppercase single-letter colors is deprecated since Matplotlib 3.1 and will be removed in 3.3; please use lowercase instead.\n",
      "  ax.hist(data[col].dropna().values, bins=bins, **kwds)\n"
     ]
    },
    {
     "data": {
      "image/png": "[encoded data removed]",
      "text/plain": [
       "<Figure size 576x360 with 1 Axes>"
      ]
     },
     "metadata": {
      "needs_background": "light"
     },
     "output_type": "display_data"
    }
   ],
   "source": [
    "final_data[['Score']].hist(figsize=(8,5),bins=6,color='G')\n",
    "plt.tight_layout()\n",
    "plt.show()"
   ]
  },
  {
   "cell_type": "code",
   "execution_count": 50,
   "metadata": {},
   "outputs": [
    {
     "data": {
      "image/png": "[encoded data removed]",
      "text/plain": [
       "<Figure size 432x288 with 1 Axes>"
      ]
     },
     "metadata": {
      "needs_background": "light"
     },
     "output_type": "display_data"
    }
   ],
   "source": [
    "score = sns.countplot(x=\"Score\", data=final_data).set_title('count of score')"
   ]
  },
  {
   "cell_type": "code",
   "execution_count": 51,
   "metadata": {},
   "outputs": [
    {
     "data": {
      "image/png": "[encoded data removed]",
      "text/plain": [
       "<Figure size 432x288 with 1 Axes>"
      ]
     },
     "metadata": {
      "needs_background": "light"
     },
     "output_type": "display_data"
    }
   ],
   "source": [
    "ax = sns.countplot(x=\"Period_of_stay\", hue= \"Score\", data=final_data).set_title('count of period of stay')"
   ]
  },
  {
   "cell_type": "code",
   "execution_count": 52,
   "metadata": {},
   "outputs": [
    {
     "data": {
      "text/plain": [
       "array(['Friends', 'Business', 'Families', 'Solo', 'Couples'], dtype=object)"
      ]
     },
     "execution_count": 52,
     "metadata": {},
     "output_type": "execute_result"
    }
   ],
   "source": [
    "data.Traveler_type.unique()"
   ]
  },
  {
   "cell_type": "code",
   "execution_count": 53,
   "metadata": {},
   "outputs": [
    {
     "data": {
      "image/png": "[encoded data removed]",
      "text/plain": [
       "<Figure size 432x288 with 1 Axes>"
      ]
     },
     "metadata": {},
     "output_type": "display_data"
    }
   ],
   "source": [
    "my_labels =  ['Couples', 'Solo', 'Business', 'Friends', 'Families']\n",
    "my_colors = ['pink', 'red', 'blue', 'green', 'gold']\n",
    "plt.pie(data.Traveler_type.value_counts(), labels= my_labels, colors=my_colors, autopct='%1.1f%%',startangle=90)\n",
    "plt.title(\"Percentage of Traveler Type\")\n",
    "plt.show()\n"
   ]
  },
  {
   "cell_type": "code",
   "execution_count": 54,
   "metadata": {},
   "outputs": [
    {
     "data": {
      "image/png": "[encoded data removed]",
      "text/plain": [
       "<Figure size 432x288 with 1 Axes>"
      ]
     },
     "metadata": {},
     "output_type": "display_data"
    }
   ],
   "source": [
    "my_labels =  ['Monday', 'Tuesday', 'Wednesday', 'Thursday', 'Friday', 'Saturday', 'Sunday']\n",
    "my_colors = ['yellow', 'grey', 'blue', 'green', 'gold', 'magenta', 'purple']\n",
    "plt.pie(data.Review_weekday.value_counts(), labels= my_labels, colors=my_colors, startangle=90, autopct='%.1f%%')\n",
    "plt.title(\"Percentage of review weekday\")\n",
    "plt.show()\n"
   ]
  },
  {
   "cell_type": "code",
   "execution_count": 55,
   "metadata": {},
   "outputs": [
    {
     "data": {
      "text/plain": [
       "Index(['User_country', 'No_of_reviews', 'No_of_hotelreviews', 'Helpful_votes',\n",
       "       'Score', 'Period_of_stay', 'Traveler_type', 'Pool', 'Gym',\n",
       "       'Tennis_court', 'Spa', 'Casino', 'Free_internet', 'Hotel_name',\n",
       "       'hotelstar', 'No_of_rooms', 'User_continent', 'Member_years',\n",
       "       'Review_month', 'Review_weekday'],\n",
       "      dtype='object')"
      ]
     },
     "execution_count": 55,
     "metadata": {},
     "output_type": "execute_result"
    }
   ],
   "source": [
    "data.columns"
   ]
  },
  {
   "cell_type": "code",
   "execution_count": 56,
   "metadata": {},
   "outputs": [
    {
     "data": {
      "image/png": "[encoded data removed]",
      "text/plain": [
       "<Figure size 432x288 with 1 Axes>"
      ]
     },
     "metadata": {
      "needs_background": "light"
     },
     "output_type": "display_data"
    }
   ],
   "source": [
    "pool=sns.countplot(x='Pool',data=final_data).set_title('Pool type')"
   ]
  },
  {
   "cell_type": "code",
   "execution_count": 57,
   "metadata": {},
   "outputs": [
    {
     "data": {
      "image/png": "[encoded data removed]",
      "text/plain": [
       "<Figure size 432x288 with 1 Axes>"
      ]
     },
     "metadata": {
      "needs_background": "light"
     },
     "output_type": "display_data"
    }
   ],
   "source": [
    "gym=sns.countplot(x='Gym',data=final_data).set_title('Pool type')"
   ]
  },
  {
   "cell_type": "code",
   "execution_count": 58,
   "metadata": {},
   "outputs": [
    {
     "data": {
      "image/png": "[encoded data removed]",
      "text/plain": [
       "<Figure size 432x288 with 1 Axes>"
      ]
     },
     "metadata": {
      "needs_background": "light"
     },
     "output_type": "display_data"
    }
   ],
   "source": [
    "tennis_court=sns.countplot(x='Tennis_court',data=final_data).set_title('Pool type')"
   ]
  },
  {
   "cell_type": "code",
   "execution_count": 59,
   "metadata": {},
   "outputs": [
    {
     "data": {
      "image/png": "[encoded data removed]",
      "text/plain": [
       "<Figure size 432x288 with 1 Axes>"
      ]
     },
     "metadata": {
      "needs_background": "light"
     },
     "output_type": "display_data"
    }
   ],
   "source": [
    "ax = sns.countplot(x=\"Pool\", hue= \"hotelstar\", data=final_data).set_title('Hotel star that contain pool')"
   ]
  },
  {
   "cell_type": "code",
   "execution_count": 60,
   "metadata": {},
   "outputs": [
    {
     "data": {
      "image/png": "[encoded data removed]",
      "text/plain": [
       "<Figure size 432x288 with 1 Axes>"
      ]
     },
     "metadata": {
      "needs_background": "light"
     },
     "output_type": "display_data"
    }
   ],
   "source": [
    "spa=sns.countplot(x='Spa',data=final_data).set_title('Spa')"
   ]
  },
  {
   "cell_type": "code",
   "execution_count": 61,
   "metadata": {},
   "outputs": [
    {
     "data": {
      "image/png": "[encoded data removed]",
      "text/plain": [
       "<Figure size 432x288 with 1 Axes>"
      ]
     },
     "metadata": {
      "needs_background": "light"
     },
     "output_type": "display_data"
    }
   ],
   "source": [
    "spa = sns.countplot(x=\"Spa\", hue= \"hotelstar\", data=final_data).set_title('Hotel that contain spa')"
   ]
  },
  {
   "cell_type": "code",
   "execution_count": 62,
   "metadata": {},
   "outputs": [
    {
     "data": {
      "image/png": "[encoded data removed]",
      "text/plain": [
       "<Figure size 432x288 with 1 Axes>"
      ]
     },
     "metadata": {
      "needs_background": "light"
     },
     "output_type": "display_data"
    }
   ],
   "source": [
    "casino=sns.countplot(x='Casino',data=final_data).set_title('Casino')"
   ]
  },
  {
   "cell_type": "code",
   "execution_count": 63,
   "metadata": {},
   "outputs": [
    {
     "data": {
      "image/png": "[encoded data removed]",
      "text/plain": [
       "<Figure size 432x288 with 1 Axes>"
      ]
     },
     "metadata": {
      "needs_background": "light"
     },
     "output_type": "display_data"
    }
   ],
   "source": [
    "internt=sns.countplot(x='Free_internet',data=final_data).set_title('Free Internet')"
   ]
  },
  {
   "cell_type": "code",
   "execution_count": 64,
   "metadata": {},
   "outputs": [
    {
     "data": {
      "image/png": "[encoded data removed]",
      "text/plain": [
       "<Figure size 432x288 with 1 Axes>"
      ]
     },
     "metadata": {
      "needs_background": "light"
     },
     "output_type": "display_data"
    }
   ],
   "source": [
    "hotelstar=sns.countplot(x='hotelstar',data=data).set_title('Hotel type')"
   ]
  },
  {
   "cell_type": "code",
   "execution_count": 65,
   "metadata": {},
   "outputs": [
    {
     "data": {
      "text/plain": [
       "<matplotlib.axes._subplots.AxesSubplot at 0x2e47ae18f10>"
      ]
     },
     "execution_count": 65,
     "metadata": {},
     "output_type": "execute_result"
    },
    {
     "data": {
      "image/png": "[encoded data removed]",
      "text/plain": [
       "<Figure size 432x288 with 1 Axes>"
      ]
     },
     "metadata": {
      "needs_background": "light"
     },
     "output_type": "display_data"
    }
   ],
   "source": [
    "data.corr()['Score'].sort_values().plot(kind='barh')"
   ]
  },
  {
   "cell_type": "code",
   "execution_count": 66,
   "metadata": {},
   "outputs": [
    {
     "data": {
      "text/plain": [
       "<matplotlib.axes._subplots.AxesSubplot at 0x2e47afeea00>"
      ]
     },
     "execution_count": 66,
     "metadata": {},
     "output_type": "execute_result"
    },
    {
     "data": {
      "image/png": "[encoded data removed]",
      "text/plain": [
       "<Figure size 432x288 with 1 Axes>"
      ]
     },
     "metadata": {
      "needs_background": "light"
     },
     "output_type": "display_data"
    }
   ],
   "source": [
    "    final_data.plot.hist(x='hotelstar',y='Score')"
   ]
  },
  {
   "cell_type": "code",
   "execution_count": 67,
   "metadata": {},
   "outputs": [
    {
     "data": {
      "text/plain": [
       "<matplotlib.axes._subplots.AxesSubplot at 0x2e47af8d3a0>"
      ]
     },
     "execution_count": 67,
     "metadata": {},
     "output_type": "execute_result"
    },
    {
     "data": {
      "image/png": "[encoded data removed]",
      "text/plain": [
       "<Figure size 720x432 with 1 Axes>"
      ]
     },
     "metadata": {
      "needs_background": "light"
     },
     "output_type": "display_data"
    }
   ],
   "source": [
    "plt.figure(figsize=(10,6))\n",
    "sns.regplot(x=\"No_of_reviews\", y=\"Helpful_votes\", data=final_data, color='blue')"
   ]
  },
  {
   "cell_type": "code",
   "execution_count": 68,
   "metadata": {},
   "outputs": [
    {
     "data": {
      "text/plain": [
       "<matplotlib.axes._subplots.AxesSubplot at 0x2e479854e50>"
      ]
     },
     "execution_count": 68,
     "metadata": {},
     "output_type": "execute_result"
    },
    {
     "data": {
      "image/png": "[encoded data removed]",
      "text/plain": [
       "<Figure size 720x432 with 1 Axes>"
      ]
     },
     "metadata": {
      "needs_background": "light"
     },
     "output_type": "display_data"
    }
   ],
   "source": [
    "plt.figure(figsize=(10,6))\n",
    "sns.regplot(x=\"No_of_reviews\", y=\"No_of_hotelreviews\", data=final_data, color='yellow')"
   ]
  },
  {
   "cell_type": "code",
   "execution_count": 69,
   "metadata": {},
   "outputs": [
    {
     "data": {
      "image/png": "[encoded data removed]",
      "text/plain": [
       "<Figure size 432x288 with 1 Axes>"
      ]
     },
     "metadata": {
      "needs_background": "light"
     },
     "output_type": "display_data"
    }
   ],
   "source": [
    "average = data[['No_of_rooms','Score']]\n",
    "average.groupby(\"Score\").mean().sort_values(\"No_of_rooms\", ascending=True).plot.bar(color='blue', title='average number of rooms based on scores', fontsize = 14)\n",
    "plt.xlabel('Score', fontsize=15, color='blue')\n",
    "plt.ylabel('average number of rooms', fontsize=15, color='blue')\n",
    "plt.ylim(2000,3000) \n",
    "plt.show()\n"
   ]
  },
  {
   "cell_type": "code",
   "execution_count": 70,
   "metadata": {},
   "outputs": [
    {
     "data": {
      "text/plain": [
       "Text(0.5, 0, 'score')"
      ]
     },
     "execution_count": 70,
     "metadata": {},
     "output_type": "execute_result"
    },
    {
     "data": {
      "image/png": "[encoded data removed]",
      "text/plain": [
       "<Figure size 432x288 with 1 Axes>"
      ]
     },
     "metadata": {
      "needs_background": "light"
     },
     "output_type": "display_data"
    }
   ],
   "source": [
    "data.groupby(\"Hotel_name\").Score.mean().sort_values(ascending=True).plot.barh(title='Average Review Score for hotel names', color='lime')\n",
    "plt.xlim(3,4.8)\n",
    "plt.xlabel(\"score\")"
   ]
  },
  {
   "cell_type": "code",
   "execution_count": 71,
   "metadata": {},
   "outputs": [
    {
     "data": {
      "text/plain": [
       "(3.7, 4.4)"
      ]
     },
     "execution_count": 71,
     "metadata": {},
     "output_type": "execute_result"
    },
    {
     "data": {
      "image/png": "[encoded data removed]",
      "text/plain": [
       "<Figure size 432x288 with 1 Axes>"
      ]
     },
     "metadata": {
      "needs_background": "light"
     },
     "output_type": "display_data"
    }
   ],
   "source": [
    "data.groupby(\"Review_weekday\").Score.mean().sort_values().plot.bar(title='Average Score for each week day', color='purple')\n",
    "plt.ylim(3.7,4.4)"
   ]
  },
  {
   "cell_type": "code",
   "execution_count": 72,
   "metadata": {},
   "outputs": [
    {
     "data": {
      "image/png": "[encoded data removed]",
      "text/plain": [
       "<Figure size 432x288 with 1 Axes>"
      ]
     },
     "metadata": {
      "needs_background": "light"
     },
     "output_type": "display_data"
    }
   ],
   "source": [
    "box = sns.boxplot(x=\"Pool\", y=\"Score\", data=data)\n"
   ]
  },
  {
   "cell_type": "code",
   "execution_count": 73,
   "metadata": {},
   "outputs": [
    {
     "data": {
      "text/plain": [
       "Text(0.5, 0, 'average number of reviews')"
      ]
     },
     "execution_count": 73,
     "metadata": {},
     "output_type": "execute_result"
    },
    {
     "data": {
      "image/png": "[encoded data removed]",
      "text/plain": [
       "<Figure size 432x288 with 1 Axes>"
      ]
     },
     "metadata": {
      "needs_background": "light"
     },
     "output_type": "display_data"
    }
   ],
   "source": [
    "data.groupby(\"Score\").No_of_reviews.mean().sort_values(ascending=False).plot.barh(title='Average number of reviews based on Score', color='blue')\n",
    "plt.xlabel(\"average number of reviews\")\n"
   ]
  },
  {
   "cell_type": "markdown",
   "metadata": {},
   "source": [
    "### Data Modelling"
   ]
  },
  {
   "cell_type": "code",
   "execution_count": 74,
   "metadata": {},
   "outputs": [
    {
     "name": "stdout",
     "output_type": "stream",
     "text": [
      "(504, 19)\n",
      "(504,)\n"
     ]
    }
   ],
   "source": [
    "###Seperating the target variable\n",
    "#Extracting target and independent variables\n",
    "x1 = final_data[final_data.columns.difference( ['Score'] )]\n",
    "y1 = final_data['Score']\n",
    "print(x1.shape)\n",
    "print(y1.shape)"
   ]
  },
  {
   "cell_type": "markdown",
   "metadata": {},
   "source": [
    "### Dividing the data into training and testing"
   ]
  },
  {
   "cell_type": "markdown",
   "metadata": {},
   "source": [
    "### Suite3"
   ]
  },
  {
   "cell_type": "code",
   "execution_count": 75,
   "metadata": {},
   "outputs": [],
   "source": [
    "train_x,test_x,train_y,test_y=train_test_split(x1,y1,test_size=0.2,random_state=12)                                              "
   ]
  },
  {
   "cell_type": "code",
   "execution_count": 76,
   "metadata": {},
   "outputs": [
    {
     "name": "stdout",
     "output_type": "stream",
     "text": [
      "403\n",
      "101\n",
      "403\n",
      "101\n"
     ]
    }
   ],
   "source": [
    "print (len(train_x))\n",
    "print (len(test_x))\n",
    "print (len(train_y))\n",
    "print (len(test_y))"
   ]
  },
  {
   "cell_type": "markdown",
   "metadata": {},
   "source": [
    "### RandomForest Classifier"
   ]
  },
  {
   "cell_type": "code",
   "execution_count": 78,
   "metadata": {},
   "outputs": [],
   "source": [
    "from sklearn.model_selection import GridSearchCV\n",
    "from sklearn.ensemble import RandomForestClassifier"
   ]
  },
  {
   "cell_type": "code",
   "execution_count": 79,
   "metadata": {},
   "outputs": [
    {
     "data": {
      "text/plain": [
       "GridSearchCV(cv=2, estimator=RandomForestClassifier(warm_start=True),\n",
       "             param_grid={'n_estimators': array([10, 11, 12, 13, 14, 15, 16, 17, 18, 19, 20, 21, 22, 23, 24])})"
      ]
     },
     "execution_count": 79,
     "metadata": {},
     "output_type": "execute_result"
    }
   ],
   "source": [
    "param_grid={'n_estimators':np.arange(10,25)}\n",
    "\n",
    "tree=GridSearchCV(RandomForestClassifier(oob_score=False,warm_start=True),param_grid,cv=2)\n",
    "tree.fit(train_x,train_y)"
   ]
  },
  {
   "cell_type": "code",
   "execution_count": 80,
   "metadata": {},
   "outputs": [
    {
     "data": {
      "text/plain": [
       "{'n_estimators': 17}"
      ]
     },
     "execution_count": 80,
     "metadata": {},
     "output_type": "execute_result"
    }
   ],
   "source": [
    "tree.best_params_"
   ]
  },
  {
   "cell_type": "code",
   "execution_count": 81,
   "metadata": {},
   "outputs": [
    {
     "data": {
      "text/plain": [
       "RandomForestClassifier(n_estimators=24, oob_score=True)"
      ]
     },
     "execution_count": 81,
     "metadata": {},
     "output_type": "execute_result"
    }
   ],
   "source": [
    "# we can take n_estimators': 24\n",
    "model = RandomForestClassifier(oob_score=True,n_estimators=24)\n",
    "model.fit( train_x, train_y)"
   ]
  },
  {
   "cell_type": "code",
   "execution_count": 82,
   "metadata": {},
   "outputs": [],
   "source": [
    "y_pred=model.predict(test_x)"
   ]
  },
  {
   "cell_type": "code",
   "execution_count": 83,
   "metadata": {},
   "outputs": [],
   "source": [
    "from sklearn.model_selection import cross_val_score\n",
    "from sklearn.metrics import confusion_matrix,classification_report"
   ]
  },
  {
   "cell_type": "code",
   "execution_count": 84,
   "metadata": {},
   "outputs": [
    {
     "name": "stderr",
     "output_type": "stream",
     "text": [
      "C:\\Users\\marut\\anaconda3\\lib\\site-packages\\sklearn\\metrics\\_classification.py:1221: UndefinedMetricWarning: Precision and F-score are ill-defined and being set to 0.0 in labels with no predicted samples. Use `zero_division` parameter to control this behavior.\n",
      "  _warn_prf(average, modifier, msg_start, len(result))\n"
     ]
    }
   ],
   "source": [
    "classificationreport=classification_report(test_y,y_pred)\n",
    "confusionmatrix=confusion_matrix(test_y,y_pred)"
   ]
  },
  {
   "cell_type": "code",
   "execution_count": 85,
   "metadata": {},
   "outputs": [
    {
     "name": "stdout",
     "output_type": "stream",
     "text": [
      "              precision    recall  f1-score   support\n",
      "\n",
      "           1       0.00      0.00      0.00         4\n",
      "           2       0.00      0.00      0.00         5\n",
      "           3       0.25      0.08      0.12        12\n",
      "           4       0.31      0.27      0.29        30\n",
      "           5       0.58      0.82      0.68        50\n",
      "\n",
      "    accuracy                           0.50       101\n",
      "   macro avg       0.23      0.23      0.22       101\n",
      "weighted avg       0.41      0.50      0.44       101\n",
      "\n",
      "[[ 0  0  1  2  1]\n",
      " [ 0  0  0  1  4]\n",
      " [ 0  0  1  6  5]\n",
      " [ 0  0  2  8 20]\n",
      " [ 0  0  0  9 41]]\n"
     ]
    }
   ],
   "source": [
    "print(classificationreport)\n",
    "print(confusionmatrix)"
   ]
  },
  {
   "cell_type": "code",
   "execution_count": 86,
   "metadata": {},
   "outputs": [],
   "source": [
    "radm_clf_training_score = round(model.score(train_x, train_y)*100, 2)\n",
    "radm_clf_testing_score = round(model.score(test_x, test_y)*100, 2)"
   ]
  },
  {
   "cell_type": "code",
   "execution_count": 87,
   "metadata": {},
   "outputs": [
    {
     "name": "stdout",
     "output_type": "stream",
     "text": [
      "100.0\n",
      "49.5\n"
     ]
    }
   ],
   "source": [
    "print(radm_clf_training_score)\n",
    "print(radm_clf_testing_score)"
   ]
  },
  {
   "cell_type": "code",
   "execution_count": 88,
   "metadata": {},
   "outputs": [
    {
     "name": "stdout",
     "output_type": "stream",
     "text": [
      "Training Accuracy : 1.0\n",
      "Testing Accuracy : 0.49504950495049505\n"
     ]
    }
   ],
   "source": [
    "# evaluating the model\n",
    "print(\"Training Accuracy :\", model.score(train_x, train_y))\n",
    "print(\"Testing Accuracy :\", model.score(test_x, test_y))\n"
   ]
  },
  {
   "cell_type": "markdown",
   "metadata": {},
   "source": [
    "### Logistic Regression"
   ]
  },
  {
   "cell_type": "code",
   "execution_count": 89,
   "metadata": {},
   "outputs": [],
   "source": [
    "Final_list=[#'Free_internet',\n",
    "            'Helpful_votes', \n",
    "                'Hotel_name', \n",
    "            'No_of_hotelreviews',            \n",
    "            'No_of_reviews',\n",
    "            #'Pool',\n",
    "            'Review_month', \n",
    "            'Review_weekday',\n",
    "            #'User_continent',\n",
    "            'hotelstar']"
   ]
  },
  {
   "cell_type": "code",
   "execution_count": 90,
   "metadata": {},
   "outputs": [],
   "source": [
    "X_new = X[Final_list]"
   ]
  },
  {
   "cell_type": "code",
   "execution_count": 91,
   "metadata": {},
   "outputs": [],
   "source": [
    "### VIF Calculation for variables\n",
    "vif = pd.DataFrame()\n",
    "vif[\"VIF_Factor\"] = [variance_inflation_factor(X_new.values, i) for i in range(X_new.shape[1])]\n",
    "vif[\"features\"] = X_new.columns"
   ]
  },
  {
   "cell_type": "code",
   "execution_count": 92,
   "metadata": {},
   "outputs": [
    {
     "data": {
      "text/html": [
       "<div>\n",
       "<style scoped>\n",
       "    .dataframe tbody tr th:only-of-type {\n",
       "        vertical-align: middle;\n",
       "    }\n",
       "\n",
       "    .dataframe tbody tr th {\n",
       "        vertical-align: top;\n",
       "    }\n",
       "\n",
       "    .dataframe thead th {\n",
       "        text-align: right;\n",
       "    }\n",
       "</style>\n",
       "<table border=\"1\" class=\"dataframe\">\n",
       "  <thead>\n",
       "    <tr style=\"text-align: right;\">\n",
       "      <th></th>\n",
       "      <th>VIF_Factor</th>\n",
       "      <th>features</th>\n",
       "    </tr>\n",
       "  </thead>\n",
       "  <tbody>\n",
       "    <tr>\n",
       "      <th>0</th>\n",
       "      <td>5.381304</td>\n",
       "      <td>Helpful_votes</td>\n",
       "    </tr>\n",
       "    <tr>\n",
       "      <th>3</th>\n",
       "      <td>3.838774</td>\n",
       "      <td>No_of_reviews</td>\n",
       "    </tr>\n",
       "    <tr>\n",
       "      <th>2</th>\n",
       "      <td>3.543224</td>\n",
       "      <td>No_of_hotelreviews</td>\n",
       "    </tr>\n",
       "    <tr>\n",
       "      <th>1</th>\n",
       "      <td>3.009816</td>\n",
       "      <td>Hotel_name</td>\n",
       "    </tr>\n",
       "    <tr>\n",
       "      <th>4</th>\n",
       "      <td>2.740281</td>\n",
       "      <td>Review_month</td>\n",
       "    </tr>\n",
       "    <tr>\n",
       "      <th>6</th>\n",
       "      <td>2.629978</td>\n",
       "      <td>hotelstar</td>\n",
       "    </tr>\n",
       "    <tr>\n",
       "      <th>5</th>\n",
       "      <td>2.623737</td>\n",
       "      <td>Review_weekday</td>\n",
       "    </tr>\n",
       "  </tbody>\n",
       "</table>\n",
       "</div>"
      ],
      "text/plain": [
       "   VIF_Factor            features\n",
       "0    5.381304       Helpful_votes\n",
       "3    3.838774       No_of_reviews\n",
       "2    3.543224  No_of_hotelreviews\n",
       "1    3.009816          Hotel_name\n",
       "4    2.740281        Review_month\n",
       "6    2.629978           hotelstar\n",
       "5    2.623737      Review_weekday"
      ]
     },
     "execution_count": 92,
     "metadata": {},
     "output_type": "execute_result"
    }
   ],
   "source": [
    "vif.sort_values(by='VIF_Factor',ascending=False)"
   ]
  },
  {
   "cell_type": "code",
   "execution_count": 93,
   "metadata": {},
   "outputs": [],
   "source": [
    "data_final = pd.concat([X_new, y], axis=1)"
   ]
  },
  {
   "cell_type": "code",
   "execution_count": 94,
   "metadata": {},
   "outputs": [],
   "source": [
    "#split the data into train & test\n",
    "train, test = train_test_split(data_final, test_size=0.2, random_state=123)"
   ]
  },
  {
   "cell_type": "code",
   "execution_count": 95,
   "metadata": {},
   "outputs": [
    {
     "name": "stdout",
     "output_type": "stream",
     "text": [
      "Optimization terminated successfully.\n",
      "         Current function value: 1.165860\n",
      "         Iterations 9\n"
     ]
    }
   ],
   "source": [
    "#Univariate Regression\n",
    "model = smf.mnlogit('Score~Helpful_votes+No_of_reviews+No_of_hotelreviews+Hotel_name+Review_month+hotelstar+Review_weekday', train).fit()"
   ]
  },
  {
   "cell_type": "code",
   "execution_count": 96,
   "metadata": {},
   "outputs": [
    {
     "name": "stdout",
     "output_type": "stream",
     "text": [
      "                          MNLogit Regression Results                          \n",
      "==============================================================================\n",
      "Dep. Variable:                  Score   No. Observations:                  403\n",
      "Model:                        MNLogit   Df Residuals:                      371\n",
      "Method:                           MLE   Df Model:                           28\n",
      "Date:                Sun, 18 Oct 2020   Pseudo R-squ.:                 0.07050\n",
      "Time:                        16:58:04   Log-Likelihood:                -469.84\n",
      "converged:                       True   LL-Null:                       -505.48\n",
      "Covariance Type:            nonrobust   LLR p-value:                 1.236e-05\n",
      "======================================================================================\n",
      "           Score=2       coef    std err          z      P>|z|      [0.025      0.975]\n",
      "--------------------------------------------------------------------------------------\n",
      "Intercept              1.9922      1.575      1.265      0.206      -1.095       5.080\n",
      "Helpful_votes         -0.0369      0.026     -1.414      0.157      -0.088       0.014\n",
      "No_of_reviews          0.0497      0.031      1.617      0.106      -0.011       0.110\n",
      "No_of_hotelreviews    -0.0020      0.090     -0.022      0.982      -0.179       0.175\n",
      "Hotel_name             0.0369      0.064      0.578      0.564      -0.088       0.162\n",
      "Review_month          -0.2810      0.125     -2.244      0.025      -0.526      -0.036\n",
      "hotelstar             -0.1848      0.235     -0.787      0.431      -0.645       0.275\n",
      "Review_weekday         0.0956      0.203      0.471      0.638      -0.302       0.493\n",
      "--------------------------------------------------------------------------------------\n",
      "           Score=3       coef    std err          z      P>|z|      [0.025      0.975]\n",
      "--------------------------------------------------------------------------------------\n",
      "Intercept              2.5539      1.467      1.741      0.082      -0.322       5.429\n",
      "Helpful_votes         -0.0353      0.020     -1.760      0.078      -0.075       0.004\n",
      "No_of_reviews          0.0386      0.030      1.280      0.201      -0.020       0.098\n",
      "No_of_hotelreviews     0.0864      0.083      1.043      0.297      -0.076       0.249\n",
      "Hotel_name             0.1015      0.059      1.731      0.083      -0.013       0.216\n",
      "Review_month          -0.2215      0.119     -1.869      0.062      -0.454       0.011\n",
      "hotelstar             -0.4403      0.222     -1.982      0.047      -0.876      -0.005\n",
      "Review_weekday        -0.1505      0.182     -0.826      0.409      -0.508       0.207\n",
      "--------------------------------------------------------------------------------------\n",
      "           Score=4       coef    std err          z      P>|z|      [0.025      0.975]\n",
      "--------------------------------------------------------------------------------------\n",
      "Intercept              3.3781      1.424      2.372      0.018       0.587       6.169\n",
      "Helpful_votes         -0.0266      0.018     -1.499      0.134      -0.061       0.008\n",
      "No_of_reviews          0.0386      0.030      1.292      0.196      -0.020       0.097\n",
      "No_of_hotelreviews     0.0788      0.082      0.958      0.338      -0.082       0.240\n",
      "Hotel_name             0.0853      0.055      1.542      0.123      -0.023       0.194\n",
      "Review_month          -0.2717      0.114     -2.381      0.017      -0.495      -0.048\n",
      "hotelstar             -0.1363      0.206     -0.663      0.508      -0.539       0.267\n",
      "Review_weekday        -0.1749      0.173     -1.008      0.313      -0.515       0.165\n",
      "--------------------------------------------------------------------------------------\n",
      "           Score=5       coef    std err          z      P>|z|      [0.025      0.975]\n",
      "--------------------------------------------------------------------------------------\n",
      "Intercept              2.8341      1.419      1.997      0.046       0.053       5.615\n",
      "Helpful_votes         -0.0214      0.017     -1.235      0.217      -0.055       0.013\n",
      "No_of_reviews          0.0348      0.030      1.167      0.243      -0.024       0.093\n",
      "No_of_hotelreviews     0.0730      0.082      0.889      0.374      -0.088       0.234\n",
      "Hotel_name             0.1087      0.054      1.994      0.046       0.002       0.215\n",
      "Review_month          -0.2310      0.113     -2.043      0.041      -0.453      -0.009\n",
      "hotelstar              0.0653      0.204      0.321      0.748      -0.334       0.464\n",
      "Review_weekday        -0.1635      0.171     -0.954      0.340      -0.500       0.172\n",
      "======================================================================================\n"
     ]
    }
   ],
   "source": [
    "print(model.summary())"
   ]
  },
  {
   "cell_type": "code",
   "execution_count": 97,
   "metadata": {},
   "outputs": [],
   "source": [
    "model=LogisticRegression()"
   ]
  },
  {
   "cell_type": "code",
   "execution_count": 98,
   "metadata": {},
   "outputs": [
    {
     "name": "stderr",
     "output_type": "stream",
     "text": [
      "C:\\Users\\marut\\anaconda3\\lib\\site-packages\\sklearn\\linear_model\\_logistic.py:762: ConvergenceWarning: lbfgs failed to converge (status=1):\n",
      "STOP: TOTAL NO. of ITERATIONS REACHED LIMIT.\n",
      "\n",
      "Increase the number of iterations (max_iter) or scale the data as shown in:\n",
      "    https://scikit-learn.org/stable/modules/preprocessing.html\n",
      "Please also refer to the documentation for alternative solver options:\n",
      "    https://scikit-learn.org/stable/modules/linear_model.html#logistic-regression\n",
      "  n_iter_i = _check_optimize_result(\n"
     ]
    },
    {
     "data": {
      "text/plain": [
       "LogisticRegression()"
      ]
     },
     "execution_count": 98,
     "metadata": {},
     "output_type": "execute_result"
    }
   ],
   "source": [
    "model.fit(train_x,train_y)"
   ]
  },
  {
   "cell_type": "code",
   "execution_count": 99,
   "metadata": {},
   "outputs": [],
   "source": [
    "y_pred=model.predict(test_x)"
   ]
  },
  {
   "cell_type": "code",
   "execution_count": 100,
   "metadata": {},
   "outputs": [
    {
     "name": "stderr",
     "output_type": "stream",
     "text": [
      "C:\\Users\\marut\\anaconda3\\lib\\site-packages\\sklearn\\metrics\\_classification.py:1221: UndefinedMetricWarning: Precision and F-score are ill-defined and being set to 0.0 in labels with no predicted samples. Use `zero_division` parameter to control this behavior.\n",
      "  _warn_prf(average, modifier, msg_start, len(result))\n"
     ]
    }
   ],
   "source": [
    "classificationreport=classification_report(test_y,y_pred)\n",
    "confusionmatrix=confusion_matrix(test_y,y_pred)"
   ]
  },
  {
   "cell_type": "code",
   "execution_count": 101,
   "metadata": {},
   "outputs": [
    {
     "name": "stdout",
     "output_type": "stream",
     "text": [
      "              precision    recall  f1-score   support\n",
      "\n",
      "           1       0.00      0.00      0.00         4\n",
      "           2       0.00      0.00      0.00         5\n",
      "           3       0.00      0.00      0.00        12\n",
      "           4       0.30      0.30      0.30        30\n",
      "           5       0.50      0.70      0.58        50\n",
      "\n",
      "    accuracy                           0.44       101\n",
      "   macro avg       0.16      0.20      0.18       101\n",
      "weighted avg       0.34      0.44      0.38       101\n",
      "\n",
      "[[ 0  0  0  1  3]\n",
      " [ 0  0  0  2  3]\n",
      " [ 0  0  0  4  8]\n",
      " [ 0  0  0  9 21]\n",
      " [ 0  0  1 14 35]]\n"
     ]
    }
   ],
   "source": [
    "print(classificationreport)\n",
    "print(confusionmatrix)"
   ]
  },
  {
   "cell_type": "code",
   "execution_count": 102,
   "metadata": {},
   "outputs": [],
   "source": [
    "logistic_training_score = round(model.score(train_x, train_y)*100, 2)\n",
    "logistic_testing_score = round(model.score(test_x, test_y)*100, 2)"
   ]
  },
  {
   "cell_type": "code",
   "execution_count": 103,
   "metadata": {},
   "outputs": [
    {
     "name": "stdout",
     "output_type": "stream",
     "text": [
      "45.91\n",
      "43.56\n"
     ]
    }
   ],
   "source": [
    "print(logistic_training_score)\n",
    "print(logistic_testing_score)"
   ]
  },
  {
   "cell_type": "code",
   "execution_count": 104,
   "metadata": {},
   "outputs": [
    {
     "name": "stdout",
     "output_type": "stream",
     "text": [
      "Training Accuracy : 0.45905707196029777\n",
      "Testing Accuracy : 0.43564356435643564\n"
     ]
    }
   ],
   "source": [
    "# evaluating the model\n",
    "print(\"Training Accuracy :\", model.score(train_x, train_y))\n",
    "print(\"Testing Accuracy :\", model.score(test_x, test_y))\n"
   ]
  },
  {
   "cell_type": "code",
   "execution_count": 105,
   "metadata": {},
   "outputs": [
    {
     "name": "stdout",
     "output_type": "stream",
     "text": [
      "RF 0.4143827160493827\n",
      "LG 0.4541666666666666\n",
      "[array([0.34567901, 0.4691358 , 0.43209877, 0.425     , 0.4       ]), array([0.41975309, 0.41975309, 0.49382716, 0.475     , 0.4625    ])]\n"
     ]
    },
    {
     "data": {
      "image/png": "[encoded data removed]",
      "text/plain": [
       "<Figure size 432x288 with 1 Axes>"
      ]
     },
     "metadata": {
      "needs_background": "light"
     },
     "output_type": "display_data"
    }
   ],
   "source": [
    "# making a list of ml classification models\n",
    "models = []\n",
    "\n",
    "def classification_Models(x_train,x_test, y_train, y_test ):\n",
    "    models.append( ('RF', RandomForestClassifier(random_state = 0)) )\n",
    "    models.append( ('LG', LogisticRegression(random_state = 0)) )\n",
    " \n",
    "    modeloutcomes = []\n",
    "    modelnames = []\n",
    "    for name,model in models:\n",
    "        v_results = cross_val_score(model, train_x, train_y,  \n",
    "                                     scoring='accuracy', n_jobs = -1, verbose = 0)\n",
    "        print(name,v_results.mean())\n",
    "        modeloutcomes.append(v_results)\n",
    "        modelnames.append(name)\n",
    "        \n",
    "    print(modeloutcomes)\n",
    "    fig = plt.figure()\n",
    "    ax = fig.add_subplot(111)\n",
    "    ax.set_xticklabels(modelnames)\n",
    "    plt.boxplot(modeloutcomes)\n",
    "        \n",
    "classification_Models(train_x,test_x, train_y, test_y)"
   ]
  },
  {
   "cell_type": "code",
   "execution_count": 106,
   "metadata": {},
   "outputs": [
    {
     "name": "stdout",
     "output_type": "stream",
     "text": [
      "                 model  Training_accuracy  Testing_accuracy\n",
      "0        Random forest             100.00             49.50\n",
      "1  Logistic Regression              45.91             43.56\n"
     ]
    },
    {
     "data": {
      "text/plain": [
       "<matplotlib.axes._subplots.AxesSubplot at 0x2e47b673490>"
      ]
     },
     "execution_count": 106,
     "metadata": {},
     "output_type": "execute_result"
    },
    {
     "data": {
      "image/png": "[encoded data removed]",
      "text/plain": [
       "<Figure size 576x288 with 1 Axes>"
      ]
     },
     "metadata": {
      "needs_background": "light"
     },
     "output_type": "display_data"
    }
   ],
   "source": [
    "suit3 = { 'model': ['Random forest', 'Logistic Regression'], 'Training_accuracy': [radm_clf_training_score , logistic_training_score], 'Testing_accuracy': [radm_clf_testing_score, logistic_testing_score] }\n",
    "suit3_c = pd.DataFrame (suit3, columns = ['model', 'Training_accuracy', 'Testing_accuracy'])\n",
    "print(suit3_c)\n",
    "suit3_c.plot(x=\"model\", kind = \"bar\", figsize=(8,4))\n"
   ]
  },
  {
   "cell_type": "markdown",
   "metadata": {},
   "source": [
    "### Suite2"
   ]
  },
  {
   "cell_type": "code",
   "execution_count": 107,
   "metadata": {},
   "outputs": [],
   "source": [
    "train_x,test_x,train_y,test_y=train_test_split(x1,y1,test_size=0.4,random_state=12)                                          "
   ]
  },
  {
   "cell_type": "code",
   "execution_count": 108,
   "metadata": {},
   "outputs": [
    {
     "name": "stdout",
     "output_type": "stream",
     "text": [
      "302\n",
      "202\n",
      "302\n",
      "202\n"
     ]
    }
   ],
   "source": [
    "print (len(train_x))\n",
    "print (len(test_x))\n",
    "print (len(train_y))\n",
    "print (len(test_y))"
   ]
  },
  {
   "cell_type": "code",
   "execution_count": 109,
   "metadata": {},
   "outputs": [
    {
     "name": "stdout",
     "output_type": "stream",
     "text": [
      "              precision    recall  f1-score   support\n",
      "\n",
      "           1       0.00      0.00      0.00         6\n",
      "           2       0.00      0.00      0.00        14\n",
      "           3       0.20      0.11      0.14        27\n",
      "           4       0.32      0.34      0.33        58\n",
      "           5       0.56      0.70      0.62        97\n",
      "\n",
      "    accuracy                           0.45       202\n",
      "   macro avg       0.22      0.23      0.22       202\n",
      "weighted avg       0.39      0.45      0.41       202\n",
      "\n",
      "[[ 0  0  1  3  2]\n",
      " [ 0  0  3  2  9]\n",
      " [ 0  2  3 12 10]\n",
      " [ 0  1  4 20 33]\n",
      " [ 0  0  4 25 68]]\n"
     ]
    },
    {
     "name": "stderr",
     "output_type": "stream",
     "text": [
      "C:\\Users\\marut\\anaconda3\\lib\\site-packages\\sklearn\\metrics\\_classification.py:1221: UndefinedMetricWarning: Precision and F-score are ill-defined and being set to 0.0 in labels with no predicted samples. Use `zero_division` parameter to control this behavior.\n",
      "  _warn_prf(average, modifier, msg_start, len(result))\n"
     ]
    }
   ],
   "source": [
    "### RandomForest Classifier\n",
    "\n",
    "from sklearn.model_selection import GridSearchCV\n",
    "from sklearn.ensemble import RandomForestClassifier\n",
    "\n",
    "param_grid={'n_estimators':np.arange(10,25)}\n",
    "\n",
    "tree=GridSearchCV(RandomForestClassifier(oob_score=False,warm_start=True),param_grid,cv=2)\n",
    "tree.fit(train_x,train_y)\n",
    "\n",
    "tree.best_params_\n",
    "\n",
    "# we can take n_estimators': 24\n",
    "model = RandomForestClassifier(oob_score=True,n_estimators=24)\n",
    "model.fit( train_x, train_y)\n",
    "\n",
    "y_pred=model.predict(test_x)\n",
    "\n",
    "from sklearn.model_selection import cross_val_score\n",
    "from sklearn.metrics import confusion_matrix,classification_report\n",
    "\n",
    "classificationreport=classification_report(test_y,y_pred)\n",
    "confusionmatrix=confusion_matrix(test_y,y_pred)\n",
    "\n",
    "print(classificationreport)\n",
    "print(confusionmatrix)"
   ]
  },
  {
   "cell_type": "code",
   "execution_count": 110,
   "metadata": {},
   "outputs": [
    {
     "name": "stdout",
     "output_type": "stream",
     "text": [
      "100.0\n",
      "45.05\n"
     ]
    }
   ],
   "source": [
    "radm_clf_training_score = round(model.score(train_x, train_y)*100, 2)\n",
    "radm_clf_testing_score = round(model.score(test_x, test_y)*100, 2)\n",
    "\n",
    "print(radm_clf_training_score)\n",
    "print(radm_clf_testing_score)"
   ]
  },
  {
   "cell_type": "code",
   "execution_count": 111,
   "metadata": {},
   "outputs": [
    {
     "name": "stdout",
     "output_type": "stream",
     "text": [
      "Training Accuracy : 1.0\n",
      "Testing Accuracy : 0.4504950495049505\n"
     ]
    }
   ],
   "source": [
    "# evaluating the model\n",
    "print(\"Training Accuracy :\", model.score(train_x, train_y))\n",
    "print(\"Testing Accuracy :\", model.score(test_x, test_y))\n"
   ]
  },
  {
   "cell_type": "markdown",
   "metadata": {},
   "source": [
    "### Logistic Regression"
   ]
  },
  {
   "cell_type": "code",
   "execution_count": 112,
   "metadata": {
    "scrolled": true
   },
   "outputs": [
    {
     "name": "stdout",
     "output_type": "stream",
     "text": [
      "Optimization terminated successfully.\n",
      "         Current function value: 1.150655\n",
      "         Iterations 12\n",
      "                          MNLogit Regression Results                          \n",
      "==============================================================================\n",
      "Dep. Variable:                  Score   No. Observations:                  302\n",
      "Model:                        MNLogit   Df Residuals:                      270\n",
      "Method:                           MLE   Df Model:                           28\n",
      "Date:                Sun, 18 Oct 2020   Pseudo R-squ.:                 0.08023\n",
      "Time:                        17:00:25   Log-Likelihood:                -347.50\n",
      "converged:                       True   LL-Null:                       -377.81\n",
      "Covariance Type:            nonrobust   LLR p-value:                 0.0003389\n",
      "======================================================================================\n",
      "           Score=2       coef    std err          z      P>|z|      [0.025      0.975]\n",
      "--------------------------------------------------------------------------------------\n",
      "Intercept              4.9078      3.465      1.416      0.157      -1.883      11.699\n",
      "Helpful_votes         -0.1015      0.041     -2.505      0.012      -0.181      -0.022\n",
      "No_of_reviews          0.0548      0.065      0.840      0.401      -0.073       0.183\n",
      "No_of_hotelreviews     0.6556      0.291      2.253      0.024       0.085       1.226\n",
      "Hotel_name             0.0703      0.099      0.710      0.478      -0.124       0.264\n",
      "Review_month          -0.6953      0.315     -2.209      0.027      -1.312      -0.078\n",
      "hotelstar             -0.0083      0.358     -0.023      0.982      -0.710       0.693\n",
      "Review_weekday        -0.1635      0.311     -0.526      0.599      -0.773       0.446\n",
      "--------------------------------------------------------------------------------------\n",
      "           Score=3       coef    std err          z      P>|z|      [0.025      0.975]\n",
      "--------------------------------------------------------------------------------------\n",
      "Intercept              5.8238      3.407      1.709      0.087      -0.854      12.502\n",
      "Helpful_votes         -0.0944      0.037     -2.576      0.010      -0.166      -0.023\n",
      "No_of_reviews          0.0420      0.065      0.647      0.518      -0.085       0.169\n",
      "No_of_hotelreviews     0.7274      0.289      2.515      0.012       0.161       1.294\n",
      "Hotel_name             0.1247      0.096      1.302      0.193      -0.063       0.312\n",
      "Review_month          -0.6482      0.312     -2.075      0.038      -1.260      -0.036\n",
      "hotelstar             -0.3738      0.348     -1.073      0.283      -1.057       0.309\n",
      "Review_weekday        -0.3838      0.297     -1.291      0.197      -0.966       0.199\n",
      "--------------------------------------------------------------------------------------\n",
      "           Score=4       coef    std err          z      P>|z|      [0.025      0.975]\n",
      "--------------------------------------------------------------------------------------\n",
      "Intercept              6.7878      3.385      2.005      0.045       0.154      13.422\n",
      "Helpful_votes         -0.0922      0.036     -2.591      0.010      -0.162      -0.022\n",
      "No_of_reviews          0.0435      0.065      0.671      0.502      -0.084       0.171\n",
      "No_of_hotelreviews     0.7235      0.289      2.503      0.012       0.157       1.290\n",
      "Hotel_name             0.1109      0.093      1.188      0.235      -0.072       0.294\n",
      "Review_month          -0.7173      0.310     -2.312      0.021      -1.326      -0.109\n",
      "hotelstar             -0.0758      0.336     -0.226      0.821      -0.734       0.582\n",
      "Review_weekday        -0.4036      0.291     -1.389      0.165      -0.973       0.166\n",
      "--------------------------------------------------------------------------------------\n",
      "           Score=5       coef    std err          z      P>|z|      [0.025      0.975]\n",
      "--------------------------------------------------------------------------------------\n",
      "Intercept              6.0635      3.379      1.794      0.073      -0.560      12.687\n",
      "Helpful_votes         -0.0877      0.035     -2.481      0.013      -0.157      -0.018\n",
      "No_of_reviews          0.0408      0.065      0.630      0.529      -0.086       0.168\n",
      "No_of_hotelreviews     0.7155      0.289      2.476      0.013       0.149       1.282\n",
      "Hotel_name             0.1399      0.093      1.510      0.131      -0.042       0.322\n",
      "Review_month          -0.6586      0.310     -2.127      0.033      -1.266      -0.052\n",
      "hotelstar              0.0790      0.333      0.237      0.813      -0.575       0.733\n",
      "Review_weekday        -0.3763      0.288     -1.305      0.192      -0.942       0.189\n",
      "======================================================================================\n",
      "              precision    recall  f1-score   support\n",
      "\n",
      "           1       0.00      0.00      0.00         6\n",
      "           2       0.00      0.00      0.00        14\n",
      "           3       0.00      0.00      0.00        27\n",
      "           4       0.32      0.36      0.34        58\n",
      "           5       0.51      0.71      0.59        97\n",
      "\n",
      "    accuracy                           0.45       202\n",
      "   macro avg       0.17      0.21      0.19       202\n",
      "weighted avg       0.34      0.45      0.38       202\n",
      "\n",
      "[[ 0  0  0  2  4]\n",
      " [ 0  0  0  5  9]\n",
      " [ 0  0  0 10 17]\n",
      " [ 0  0  1 21 36]\n",
      " [ 0  0  0 28 69]]\n"
     ]
    },
    {
     "name": "stderr",
     "output_type": "stream",
     "text": [
      "C:\\Users\\marut\\anaconda3\\lib\\site-packages\\sklearn\\linear_model\\_logistic.py:762: ConvergenceWarning: lbfgs failed to converge (status=1):\n",
      "STOP: TOTAL NO. of ITERATIONS REACHED LIMIT.\n",
      "\n",
      "Increase the number of iterations (max_iter) or scale the data as shown in:\n",
      "    https://scikit-learn.org/stable/modules/preprocessing.html\n",
      "Please also refer to the documentation for alternative solver options:\n",
      "    https://scikit-learn.org/stable/modules/linear_model.html#logistic-regression\n",
      "  n_iter_i = _check_optimize_result(\n",
      "C:\\Users\\marut\\anaconda3\\lib\\site-packages\\sklearn\\metrics\\_classification.py:1221: UndefinedMetricWarning: Precision and F-score are ill-defined and being set to 0.0 in labels with no predicted samples. Use `zero_division` parameter to control this behavior.\n",
      "  _warn_prf(average, modifier, msg_start, len(result))\n"
     ]
    }
   ],
   "source": [
    "Final_list=[#'Free_internet',\n",
    "            'Helpful_votes', \n",
    "                'Hotel_name', \n",
    "            'No_of_hotelreviews',            \n",
    "            'No_of_reviews',\n",
    "            #'Pool',\n",
    "            'Review_month', \n",
    "            'Review_weekday',\n",
    "            #'User_continent',\n",
    "            'hotelstar']\n",
    "\n",
    "X_new = X[Final_list]\n",
    "\n",
    "### VIF Calculation for variables\n",
    "vif = pd.DataFrame()\n",
    "vif[\"VIF_Factor\"] = [variance_inflation_factor(X_new.values, i) for i in range(X_new.shape[1])]\n",
    "vif[\"features\"] = X_new.columns\n",
    "\n",
    "vif.sort_values(by='VIF_Factor',ascending=False)\n",
    "\n",
    "data_final = pd.concat([X_new, y], axis=1)\n",
    "\n",
    "#split the data into train & test\n",
    "train, test = train_test_split(data_final, test_size=0.4, random_state=123)\n",
    "\n",
    "#Univariate Regression\n",
    "model = smf.mnlogit('Score~Helpful_votes+No_of_reviews+No_of_hotelreviews+Hotel_name+Review_month+hotelstar+Review_weekday', train).fit()\n",
    "\n",
    "print(model.summary())\n",
    "\n",
    "model=LogisticRegression()\n",
    "\n",
    "model.fit(train_x,train_y)\n",
    "\n",
    "y_pred=model.predict(test_x)\n",
    "\n",
    "classificationreport=classification_report(test_y,y_pred)\n",
    "confusionmatrix=confusion_matrix(test_y,y_pred)\n",
    "\n",
    "print(classificationreport)\n",
    "print(confusionmatrix)"
   ]
  },
  {
   "cell_type": "code",
   "execution_count": 113,
   "metadata": {},
   "outputs": [
    {
     "name": "stdout",
     "output_type": "stream",
     "text": [
      "50.0\n",
      "44.55\n"
     ]
    }
   ],
   "source": [
    "logistic_training_score = round(model.score(train_x, train_y)*100, 2)\n",
    "logistic_testing_score = round(model.score(test_x, test_y)*100, 2)\n",
    "\n",
    "print(logistic_training_score)\n",
    "print(logistic_testing_score)"
   ]
  },
  {
   "cell_type": "code",
   "execution_count": 114,
   "metadata": {},
   "outputs": [
    {
     "name": "stdout",
     "output_type": "stream",
     "text": [
      "Training Accuracy : 0.5\n",
      "Testing Accuracy : 0.44554455445544555\n"
     ]
    }
   ],
   "source": [
    "# evaluating the model\n",
    "print(\"Training Accuracy :\", model.score(train_x, train_y))\n",
    "print(\"Testing Accuracy :\", model.score(test_x, test_y))\n"
   ]
  },
  {
   "cell_type": "code",
   "execution_count": 115,
   "metadata": {},
   "outputs": [
    {
     "name": "stdout",
     "output_type": "stream",
     "text": [
      "RF 0.430327868852459\n",
      "LG 0.44366120218579236\n",
      "[array([0.52459016, 0.37704918, 0.4       , 0.5       , 0.35      ]), array([0.44262295, 0.45901639, 0.41666667, 0.43333333, 0.46666667])]\n",
      "                 model  Training_accuracy  Testing_accuracy\n",
      "0        Random forest              100.0             45.05\n",
      "1  Logistic Regression               50.0             44.55\n"
     ]
    },
    {
     "data": {
      "text/plain": [
       "<matplotlib.axes._subplots.AxesSubplot at 0x2e47b794430>"
      ]
     },
     "execution_count": 115,
     "metadata": {},
     "output_type": "execute_result"
    },
    {
     "data": {
      "image/png": "[encoded data removed]",
      "text/plain": [
       "<Figure size 432x288 with 1 Axes>"
      ]
     },
     "metadata": {
      "needs_background": "light"
     },
     "output_type": "display_data"
    },
    {
     "data": {
      "image/png": "[encoded data removed]",
      "text/plain": [
       "<Figure size 576x288 with 1 Axes>"
      ]
     },
     "metadata": {
      "needs_background": "light"
     },
     "output_type": "display_data"
    }
   ],
   "source": [
    "\n",
    "# making a list of ml classification models\n",
    "models = []\n",
    "\n",
    "def classification_Models(x_train,x_test, y_train, y_test ):\n",
    "    models.append( ('RF', RandomForestClassifier(random_state = 0)) )\n",
    "    models.append( ('LG', LogisticRegression(random_state = 0)) )\n",
    " \n",
    "    modeloutcomes = []\n",
    "    modelnames = []\n",
    "    for name,model in models:\n",
    "        v_results = cross_val_score(model, train_x, train_y,  \n",
    "                                     scoring='accuracy', n_jobs = -1, verbose = 0)\n",
    "        print(name,v_results.mean())\n",
    "        modeloutcomes.append(v_results)\n",
    "        modelnames.append(name)\n",
    "        \n",
    "    print(modeloutcomes)\n",
    "    fig = plt.figure()\n",
    "    ax = fig.add_subplot(111)\n",
    "    ax.set_xticklabels(modelnames)\n",
    "    plt.boxplot(modeloutcomes)\n",
    "        \n",
    "classification_Models(train_x,test_x, train_y, test_y)\n",
    "\n",
    "suit3 = { 'model': ['Random forest', 'Logistic Regression'], 'Training_accuracy': [radm_clf_training_score , logistic_training_score], 'Testing_accuracy': [radm_clf_testing_score, logistic_testing_score] }\n",
    "suit3_c = pd.DataFrame (suit3, columns = ['model', 'Training_accuracy', 'Testing_accuracy'])\n",
    "print(suit3_c)\n",
    "suit3_c.plot(x=\"model\", kind = \"bar\", figsize=(8,4))\n"
   ]
  },
  {
   "cell_type": "markdown",
   "metadata": {},
   "source": [
    "### Suite1"
   ]
  },
  {
   "cell_type": "code",
   "execution_count": 116,
   "metadata": {},
   "outputs": [
    {
     "name": "stdout",
     "output_type": "stream",
     "text": [
      "252\n",
      "252\n",
      "252\n",
      "252\n",
      "              precision    recall  f1-score   support\n",
      "\n",
      "           1       0.00      0.00      0.00         6\n",
      "           2       0.00      0.00      0.00        16\n",
      "           3       0.43      0.14      0.21        42\n",
      "           4       0.38      0.40      0.39        81\n",
      "           5       0.54      0.76      0.63       107\n",
      "\n",
      "    accuracy                           0.47       252\n",
      "   macro avg       0.27      0.26      0.25       252\n",
      "weighted avg       0.42      0.47      0.43       252\n",
      "\n",
      "[[ 0  0  1  3  2]\n",
      " [ 0  0  0  8  8]\n",
      " [ 0  1  6 18 17]\n",
      " [ 0  1  5 32 43]\n",
      " [ 0  0  2 24 81]]\n",
      "99.6\n",
      "47.22\n",
      "Training Accuracy : 0.996031746031746\n",
      "Testing Accuracy : 0.4722222222222222\n"
     ]
    },
    {
     "name": "stderr",
     "output_type": "stream",
     "text": [
      "C:\\Users\\marut\\anaconda3\\lib\\site-packages\\sklearn\\metrics\\_classification.py:1221: UndefinedMetricWarning: Precision and F-score are ill-defined and being set to 0.0 in labels with no predicted samples. Use `zero_division` parameter to control this behavior.\n",
      "  _warn_prf(average, modifier, msg_start, len(result))\n"
     ]
    }
   ],
   "source": [
    "train_x,test_x,train_y,test_y=train_test_split(x1,y1,test_size=0.5,random_state=12)                                              \n",
    "\n",
    "print (len(train_x))\n",
    "print (len(test_x))\n",
    "print (len(train_y))\n",
    "print (len(test_y))\n",
    "\n",
    "### RandomForest Classifier\n",
    "\n",
    "from sklearn.model_selection import GridSearchCV\n",
    "from sklearn.ensemble import RandomForestClassifier\n",
    "\n",
    "param_grid={'n_estimators':np.arange(10,25)}\n",
    "\n",
    "tree=GridSearchCV(RandomForestClassifier(oob_score=False,warm_start=True),param_grid,cv=2)\n",
    "tree.fit(train_x,train_y)\n",
    "\n",
    "tree.best_params_\n",
    "\n",
    "# we can take n_estimators': 24\n",
    "model = RandomForestClassifier(oob_score=True,n_estimators=24)\n",
    "model.fit( train_x, train_y)\n",
    "\n",
    "y_pred=model.predict(test_x)\n",
    "\n",
    "from sklearn.model_selection import cross_val_score\n",
    "from sklearn.metrics import confusion_matrix,classification_report\n",
    "\n",
    "classificationreport=classification_report(test_y,y_pred)\n",
    "confusionmatrix=confusion_matrix(test_y,y_pred)\n",
    "\n",
    "print(classificationreport)\n",
    "print(confusionmatrix)\n",
    "\n",
    "radm_clf_training_score = round(model.score(train_x, train_y)*100, 2)\n",
    "radm_clf_testing_score = round(model.score(test_x, test_y)*100, 2)\n",
    "\n",
    "print(radm_clf_training_score)\n",
    "print(radm_clf_testing_score)\n",
    "# evaluating the model\n",
    "print(\"Training Accuracy :\", model.score(train_x, train_y))\n",
    "print(\"Testing Accuracy :\", model.score(test_x, test_y))\n"
   ]
  },
  {
   "cell_type": "markdown",
   "metadata": {},
   "source": [
    "### Logistic Regression"
   ]
  },
  {
   "cell_type": "code",
   "execution_count": 117,
   "metadata": {},
   "outputs": [
    {
     "name": "stdout",
     "output_type": "stream",
     "text": [
      "Optimization terminated successfully.\n",
      "         Current function value: 1.156836\n",
      "         Iterations 13\n",
      "                          MNLogit Regression Results                          \n",
      "==============================================================================\n",
      "Dep. Variable:                  Score   No. Observations:                  252\n",
      "Model:                        MNLogit   Df Residuals:                      220\n",
      "Method:                           MLE   Df Model:                           28\n",
      "Date:                Sun, 18 Oct 2020   Pseudo R-squ.:                 0.08675\n",
      "Time:                        17:01:05   Log-Likelihood:                -291.52\n",
      "converged:                       True   LL-Null:                       -319.22\n",
      "Covariance Type:            nonrobust   LLR p-value:                  0.001528\n",
      "======================================================================================\n",
      "           Score=2       coef    std err          z      P>|z|      [0.025      0.975]\n",
      "--------------------------------------------------------------------------------------\n",
      "Intercept              7.0809      4.600      1.539      0.124      -1.934      16.096\n",
      "Helpful_votes         -0.2392      0.106     -2.261      0.024      -0.447      -0.032\n",
      "No_of_reviews          0.1258      0.089      1.411      0.158      -0.049       0.300\n",
      "No_of_hotelreviews     0.9722      0.422      2.304      0.021       0.145       1.799\n",
      "Hotel_name            -0.0140      0.134     -0.105      0.917      -0.276       0.248\n",
      "Review_month          -0.8643      0.413     -2.094      0.036      -1.673      -0.055\n",
      "hotelstar              0.4232      0.502      0.843      0.399      -0.560       1.407\n",
      "Review_weekday        -0.4045      0.463     -0.874      0.382      -1.312       0.503\n",
      "--------------------------------------------------------------------------------------\n",
      "           Score=3       coef    std err          z      P>|z|      [0.025      0.975]\n",
      "--------------------------------------------------------------------------------------\n",
      "Intercept              7.9724      4.545      1.754      0.079      -0.936      16.881\n",
      "Helpful_votes         -0.2254      0.104     -2.169      0.030      -0.429      -0.022\n",
      "No_of_reviews          0.1111      0.089      1.250      0.211      -0.063       0.285\n",
      "No_of_hotelreviews     1.0273      0.421      2.443      0.015       0.203       1.852\n",
      "Hotel_name             0.0427      0.130      0.329      0.742      -0.212       0.297\n",
      "Review_month          -0.8023      0.410     -1.957      0.050      -1.606       0.001\n",
      "hotelstar              0.0960      0.491      0.195      0.845      -0.867       1.059\n",
      "Review_weekday        -0.6099      0.451     -1.354      0.176      -1.493       0.273\n",
      "--------------------------------------------------------------------------------------\n",
      "           Score=4       coef    std err          z      P>|z|      [0.025      0.975]\n",
      "--------------------------------------------------------------------------------------\n",
      "Intercept              8.6629      4.528      1.913      0.056      -0.211      17.537\n",
      "Helpful_votes         -0.2232      0.104     -2.157      0.031      -0.426      -0.020\n",
      "No_of_reviews          0.1124      0.089      1.266      0.206      -0.062       0.286\n",
      "No_of_hotelreviews     1.0251      0.420      2.438      0.015       0.201       1.849\n",
      "Hotel_name             0.0269      0.128      0.210      0.834      -0.224       0.278\n",
      "Review_month          -0.8570      0.408     -2.099      0.036      -1.657      -0.057\n",
      "hotelstar              0.3995      0.482      0.828      0.408      -0.546       1.345\n",
      "Review_weekday        -0.6127      0.446     -1.373      0.170      -1.488       0.262\n",
      "--------------------------------------------------------------------------------------\n",
      "           Score=5       coef    std err          z      P>|z|      [0.025      0.975]\n",
      "--------------------------------------------------------------------------------------\n",
      "Intercept              7.8736      4.522      1.741      0.082      -0.989      16.736\n",
      "Helpful_votes         -0.2173      0.103     -2.102      0.036      -0.420      -0.015\n",
      "No_of_reviews          0.1108      0.089      1.249      0.212      -0.063       0.285\n",
      "No_of_hotelreviews     1.0139      0.420      2.411      0.016       0.190       1.838\n",
      "Hotel_name             0.0622      0.128      0.487      0.626      -0.188       0.313\n",
      "Review_month          -0.8130      0.408     -1.994      0.046      -1.612      -0.014\n",
      "hotelstar              0.5414      0.481      1.126      0.260      -0.401       1.484\n",
      "Review_weekday        -0.5572      0.445     -1.253      0.210      -1.429       0.315\n",
      "======================================================================================\n",
      "              precision    recall  f1-score   support\n",
      "\n",
      "           1       0.00      0.00      0.00         6\n",
      "           2       0.00      0.00      0.00        16\n",
      "           3       0.00      0.00      0.00        42\n",
      "           4       0.36      0.25      0.29        81\n",
      "           5       0.44      0.79      0.56       107\n",
      "\n",
      "    accuracy                           0.42       252\n",
      "   macro avg       0.16      0.21      0.17       252\n",
      "weighted avg       0.30      0.42      0.33       252\n",
      "\n",
      "[[ 0  0  0  1  5]\n",
      " [ 0  0  0  5 11]\n",
      " [ 0  0  0  9 33]\n",
      " [ 0  0  1 20 60]\n",
      " [ 0  0  1 21 85]]\n"
     ]
    },
    {
     "name": "stderr",
     "output_type": "stream",
     "text": [
      "C:\\Users\\marut\\anaconda3\\lib\\site-packages\\sklearn\\linear_model\\_logistic.py:762: ConvergenceWarning: lbfgs failed to converge (status=1):\n",
      "STOP: TOTAL NO. of ITERATIONS REACHED LIMIT.\n",
      "\n",
      "Increase the number of iterations (max_iter) or scale the data as shown in:\n",
      "    https://scikit-learn.org/stable/modules/preprocessing.html\n",
      "Please also refer to the documentation for alternative solver options:\n",
      "    https://scikit-learn.org/stable/modules/linear_model.html#logistic-regression\n",
      "  n_iter_i = _check_optimize_result(\n",
      "C:\\Users\\marut\\anaconda3\\lib\\site-packages\\sklearn\\metrics\\_classification.py:1221: UndefinedMetricWarning: Precision and F-score are ill-defined and being set to 0.0 in labels with no predicted samples. Use `zero_division` parameter to control this behavior.\n",
      "  _warn_prf(average, modifier, msg_start, len(result))\n"
     ]
    }
   ],
   "source": [
    "Final_list=[#'Free_internet',\n",
    "            'Helpful_votes', \n",
    "                'Hotel_name', \n",
    "            'No_of_hotelreviews',            \n",
    "            'No_of_reviews',\n",
    "            #'Pool',\n",
    "            'Review_month', \n",
    "            'Review_weekday',\n",
    "            #'User_continent',\n",
    "            'hotelstar']\n",
    "\n",
    "X_new = X[Final_list]\n",
    "\n",
    "### VIF Calculation for variables\n",
    "vif = pd.DataFrame()\n",
    "vif[\"VIF_Factor\"] = [variance_inflation_factor(X_new.values, i) for i in range(X_new.shape[1])]\n",
    "vif[\"features\"] = X_new.columns\n",
    "\n",
    "vif.sort_values(by='VIF_Factor',ascending=False)\n",
    "\n",
    "data_final = pd.concat([X_new, y], axis=1)\n",
    "\n",
    "#split the data into train & test\n",
    "train, test = train_test_split(data_final, test_size=0.5, random_state=123)\n",
    "\n",
    "#Univariate Regression\n",
    "model = smf.mnlogit('Score~Helpful_votes+No_of_reviews+No_of_hotelreviews+Hotel_name+Review_month+hotelstar+Review_weekday', train).fit()\n",
    "\n",
    "print(model.summary())\n",
    "\n",
    "model=LogisticRegression()\n",
    "\n",
    "model.fit(train_x,train_y)\n",
    "\n",
    "y_pred=model.predict(test_x)\n",
    "\n",
    "classificationreport=classification_report(test_y,y_pred)\n",
    "confusionmatrix=confusion_matrix(test_y,y_pred)\n",
    "\n",
    "print(classificationreport)\n",
    "print(confusionmatrix)"
   ]
  },
  {
   "cell_type": "code",
   "execution_count": 118,
   "metadata": {},
   "outputs": [
    {
     "name": "stdout",
     "output_type": "stream",
     "text": [
      "53.97\n",
      "41.67\n"
     ]
    }
   ],
   "source": [
    "logistic_training_score = round(model.score(train_x, train_y)*100, 2)\n",
    "logistic_testing_score = round(model.score(test_x, test_y)*100, 2)\n",
    "\n",
    "print(logistic_training_score)\n",
    "print(logistic_testing_score)"
   ]
  },
  {
   "cell_type": "code",
   "execution_count": 119,
   "metadata": {},
   "outputs": [
    {
     "name": "stdout",
     "output_type": "stream",
     "text": [
      "Training Accuracy : 0.5396825396825397\n",
      "Testing Accuracy : 0.4166666666666667\n"
     ]
    }
   ],
   "source": [
    "# evaluating the model\n",
    "print(\"Training Accuracy :\", model.score(train_x, train_y))\n",
    "print(\"Testing Accuracy :\", model.score(test_x, test_y))\n"
   ]
  },
  {
   "cell_type": "code",
   "execution_count": 120,
   "metadata": {},
   "outputs": [
    {
     "name": "stdout",
     "output_type": "stream",
     "text": [
      "RF 0.44823529411764707\n",
      "LG 0.4838431372549019\n",
      "[array([0.49019608, 0.45098039, 0.44      , 0.46      , 0.4       ]), array([0.52941176, 0.50980392, 0.42      , 0.48      , 0.48      ])]\n",
      "                 model  Training_accuracy  Testing_accuracy\n",
      "0        Random forest              99.60             47.22\n",
      "1  Logistic Regression              53.97             41.67\n"
     ]
    },
    {
     "data": {
      "text/plain": [
       "<matplotlib.axes._subplots.AxesSubplot at 0x2e47c83c910>"
      ]
     },
     "execution_count": 120,
     "metadata": {},
     "output_type": "execute_result"
    },
    {
     "data": {
      "image/png": "[encoded data removed]",
      "text/plain": [
       "<Figure size 432x288 with 1 Axes>"
      ]
     },
     "metadata": {
      "needs_background": "light"
     },
     "output_type": "display_data"
    },
    {
     "data": {
      "image/png": "[encoded data removed]",
      "text/plain": [
       "<Figure size 576x288 with 1 Axes>"
      ]
     },
     "metadata": {
      "needs_background": "light"
     },
     "output_type": "display_data"
    }
   ],
   "source": [
    "\n",
    "# making a list of ml classification models\n",
    "models = []\n",
    "\n",
    "def classification_Models(x_train,x_test, y_train, y_test ):\n",
    "    models.append( ('RF', RandomForestClassifier(random_state = 0)) )\n",
    "    models.append( ('LG', LogisticRegression(random_state = 0)) )\n",
    " \n",
    "    modeloutcomes = []\n",
    "    modelnames = []\n",
    "    for name,model in models:\n",
    "        v_results = cross_val_score(model, train_x, train_y,  \n",
    "                                     scoring='accuracy', n_jobs = -1, verbose = 0)\n",
    "        print(name,v_results.mean())\n",
    "        modeloutcomes.append(v_results)\n",
    "        modelnames.append(name)\n",
    "        \n",
    "    print(modeloutcomes)\n",
    "    fig = plt.figure()\n",
    "    ax = fig.add_subplot(111)\n",
    "    ax.set_xticklabels(modelnames)\n",
    "    plt.boxplot(modeloutcomes)\n",
    "        \n",
    "classification_Models(train_x,test_x, train_y, test_y)\n",
    "\n",
    "suit3 = { 'model': ['Random forest', 'Logistic Regression'], 'Training_accuracy': [radm_clf_training_score , logistic_training_score], 'Testing_accuracy': [radm_clf_testing_score, logistic_testing_score] }\n",
    "suit3_c = pd.DataFrame (suit3, columns = ['model', 'Training_accuracy', 'Testing_accuracy'])\n",
    "print(suit3_c)\n",
    "suit3_c.plot(x=\"model\", kind = \"bar\", figsize=(8,4))\n"
   ]
  },
  {
   "cell_type": "markdown",
   "metadata": {},
   "source": [
    "### KNN Classifier"
   ]
  },
  {
   "cell_type": "markdown",
   "metadata": {},
   "source": [
    "### Suite1"
   ]
  },
  {
   "cell_type": "code",
   "execution_count": 121,
   "metadata": {},
   "outputs": [
    {
     "name": "stdout",
     "output_type": "stream",
     "text": [
      "252\n",
      "252\n",
      "252\n",
      "252\n"
     ]
    }
   ],
   "source": [
    "train_x,test_x,train_y,test_y=train_test_split(x1,y1,test_size=0.5,random_state=12)                                              \n",
    "\n",
    "print (len(train_x))\n",
    "print (len(test_x))\n",
    "print (len(train_y))\n",
    "print (len(test_y))"
   ]
  },
  {
   "cell_type": "code",
   "execution_count": 122,
   "metadata": {},
   "outputs": [],
   "source": [
    "from sklearn.neighbors import KNeighborsClassifier"
   ]
  },
  {
   "cell_type": "code",
   "execution_count": 123,
   "metadata": {},
   "outputs": [],
   "source": [
    "model=KNeighborsClassifier(n_neighbors=7).fit(train_x,train_y)"
   ]
  },
  {
   "cell_type": "code",
   "execution_count": 124,
   "metadata": {},
   "outputs": [],
   "source": [
    "accuracy=model.score(test_x,test_y)"
   ]
  },
  {
   "cell_type": "code",
   "execution_count": 125,
   "metadata": {},
   "outputs": [
    {
     "data": {
      "text/plain": [
       "0.3888888888888889"
      ]
     },
     "execution_count": 125,
     "metadata": {},
     "output_type": "execute_result"
    }
   ],
   "source": [
    "accuracy"
   ]
  },
  {
   "cell_type": "code",
   "execution_count": 126,
   "metadata": {},
   "outputs": [],
   "source": [
    "knn_predictions = model.predict(test_x)  \n",
    "cm = confusion_matrix(test_y, knn_predictions)"
   ]
  },
  {
   "cell_type": "code",
   "execution_count": 127,
   "metadata": {},
   "outputs": [],
   "source": [
    "y_pred=model.predict(test_x)"
   ]
  },
  {
   "cell_type": "code",
   "execution_count": 128,
   "metadata": {},
   "outputs": [
    {
     "name": "stdout",
     "output_type": "stream",
     "text": [
      "              precision    recall  f1-score   support\n",
      "\n",
      "           1       0.00      0.00      0.00         6\n",
      "           2       0.00      0.00      0.00        16\n",
      "           3       0.16      0.14      0.15        42\n",
      "           4       0.32      0.30      0.31        81\n",
      "           5       0.49      0.64      0.55       107\n",
      "\n",
      "    accuracy                           0.39       252\n",
      "   macro avg       0.19      0.21      0.20       252\n",
      "weighted avg       0.34      0.39      0.36       252\n",
      "\n",
      "[[ 0  0  0  3  3]\n",
      " [ 0  0  1  7  8]\n",
      " [ 0  0  6 18 18]\n",
      " [ 0  0 14 24 43]\n",
      " [ 0  0 16 23 68]]\n"
     ]
    },
    {
     "name": "stderr",
     "output_type": "stream",
     "text": [
      "C:\\Users\\marut\\anaconda3\\lib\\site-packages\\sklearn\\metrics\\_classification.py:1221: UndefinedMetricWarning: Precision and F-score are ill-defined and being set to 0.0 in labels with no predicted samples. Use `zero_division` parameter to control this behavior.\n",
      "  _warn_prf(average, modifier, msg_start, len(result))\n"
     ]
    }
   ],
   "source": [
    "classificationreport=classification_report(test_y,y_pred)\n",
    "confusionmatrix=confusion_matrix(test_y,y_pred)\n",
    "\n",
    "print(classificationreport)\n",
    "print(confusionmatrix)"
   ]
  },
  {
   "cell_type": "code",
   "execution_count": 129,
   "metadata": {},
   "outputs": [
    {
     "name": "stdout",
     "output_type": "stream",
     "text": [
      "56.35\n",
      "38.89\n"
     ]
    }
   ],
   "source": [
    "knn_training_score = round(model.score(train_x, train_y)*100, 2)\n",
    "knn_testing_score = round(model.score(test_x, test_y)*100, 2)\n",
    "\n",
    "print(knn_training_score)\n",
    "print(knn_testing_score)"
   ]
  },
  {
   "cell_type": "code",
   "execution_count": 130,
   "metadata": {},
   "outputs": [
    {
     "name": "stdout",
     "output_type": "stream",
     "text": [
      "Training Accuracy : 0.5634920634920635\n",
      "Testing Accuracy : 0.3888888888888889\n"
     ]
    }
   ],
   "source": [
    "# evaluating the model\n",
    "print(\"Training Accuracy :\", model.score(train_x, train_y))\n",
    "print(\"Testing Accuracy :\", model.score(test_x, test_y))\n"
   ]
  },
  {
   "cell_type": "code",
   "execution_count": 131,
   "metadata": {},
   "outputs": [
    {
     "name": "stdout",
     "output_type": "stream",
     "text": [
      "Training Accuracy : 1.0\n",
      "Testing Accuracy : 0.4365079365079365\n",
      "              precision    recall  f1-score   support\n",
      "\n",
      "           1       0.00      0.00      0.00         6\n",
      "           2       0.00      0.00      0.00        16\n",
      "           3       0.50      0.02      0.05        42\n",
      "           4       0.50      0.05      0.09        81\n",
      "           5       0.44      0.98      0.60       107\n",
      "\n",
      "    accuracy                           0.44       252\n",
      "   macro avg       0.29      0.21      0.15       252\n",
      "weighted avg       0.43      0.44      0.29       252\n",
      "\n"
     ]
    },
    {
     "name": "stderr",
     "output_type": "stream",
     "text": [
      "C:\\Users\\marut\\anaconda3\\lib\\site-packages\\sklearn\\metrics\\_classification.py:1221: UndefinedMetricWarning: Precision and F-score are ill-defined and being set to 0.0 in labels with no predicted samples. Use `zero_division` parameter to control this behavior.\n",
      "  _warn_prf(average, modifier, msg_start, len(result))\n"
     ]
    }
   ],
   "source": [
    "from sklearn.gaussian_process import GaussianProcessClassifier\n",
    "model =  GaussianProcessClassifier(random_state = 0)\n",
    "model.fit(train_x, train_y)\n",
    "\n",
    "y_pred = model.predict(test_x)\n",
    "gp_training_score = round(model.score(train_x, train_y)*100, 2)\n",
    "gp_testing_score = round(model.score(test_x, test_y)*100, 2)\n",
    "# evaluating the model\n",
    "print(\"Training Accuracy :\", model.score(train_x, train_y))\n",
    "print(\"Testing Accuracy :\", model.score(test_x, test_y))\n",
    "\n",
    "# confusion matrix\n",
    "cm = confusion_matrix(test_y, y_pred)\n",
    "\n",
    "# classification report\n",
    "cr = classification_report(test_y, y_pred)\n",
    "print(cr)\n"
   ]
  },
  {
   "cell_type": "code",
   "execution_count": 132,
   "metadata": {},
   "outputs": [
    {
     "name": "stdout",
     "output_type": "stream",
     "text": [
      "GP 0.46839215686274505\n",
      "KNN 0.41254901960784307\n",
      "[array([0.43137255, 0.47058824, 0.48      , 0.5       , 0.46      ]), array([0.47058824, 0.39215686, 0.38      , 0.46      , 0.36      ])]\n",
      "            model  Training_accuracy  Testing_accuracy\n",
      "0        Guassian             100.00             43.65\n",
      "1  KNN Classifier              56.35             38.89\n"
     ]
    },
    {
     "data": {
      "text/plain": [
       "<matplotlib.axes._subplots.AxesSubplot at 0x2e47993c6a0>"
      ]
     },
     "execution_count": 132,
     "metadata": {},
     "output_type": "execute_result"
    },
    {
     "data": {
      "image/png": "[encoded data removed]",
      "text/plain": [
       "<Figure size 432x288 with 1 Axes>"
      ]
     },
     "metadata": {
      "needs_background": "light"
     },
     "output_type": "display_data"
    },
    {
     "data": {
      "image/png": "[encoded data removed]",
      "text/plain": [
       "<Figure size 576x288 with 1 Axes>"
      ]
     },
     "metadata": {
      "needs_background": "light"
     },
     "output_type": "display_data"
    }
   ],
   "source": [
    "\n",
    "# making a list of ml classification models\n",
    "models = []\n",
    "\n",
    "def classification_Models(x_train,x_test, y_train, y_test ):\n",
    "    models.append( ('GP', GaussianProcessClassifier(random_state = 0)) )\n",
    "    models.append( ('KNN', KNeighborsClassifier()) )\n",
    " \n",
    "    modeloutcomes = []\n",
    "    modelnames = []\n",
    "    for name,model in models:\n",
    "        v_results = cross_val_score(model, train_x, train_y,  \n",
    "                                     scoring='accuracy', n_jobs = -1, verbose = 0)\n",
    "        print(name,v_results.mean())\n",
    "        modeloutcomes.append(v_results)\n",
    "        modelnames.append(name)\n",
    "        \n",
    "    print(modeloutcomes)\n",
    "    fig = plt.figure()\n",
    "    ax = fig.add_subplot(111)\n",
    "    ax.set_xticklabels(modelnames)\n",
    "    plt.boxplot(modeloutcomes)\n",
    "        \n",
    "classification_Models(train_x,test_x, train_y, test_y)\n",
    "\n",
    "suit3 = { 'model': ['Guassian', 'KNN Classifier'], 'Training_accuracy': [gp_training_score , knn_training_score], 'Testing_accuracy': [gp_testing_score, knn_testing_score] }\n",
    "suit3_c = pd.DataFrame (suit3, columns = ['model', 'Training_accuracy', 'Testing_accuracy'])\n",
    "print(suit3_c)\n",
    "suit3_c.plot(x=\"model\", kind = \"bar\", figsize=(8,4))\n"
   ]
  },
  {
   "cell_type": "markdown",
   "metadata": {},
   "source": [
    "### Suite2"
   ]
  },
  {
   "cell_type": "code",
   "execution_count": 133,
   "metadata": {},
   "outputs": [
    {
     "name": "stdout",
     "output_type": "stream",
     "text": [
      "302\n",
      "202\n",
      "302\n",
      "202\n",
      "              precision    recall  f1-score   support\n",
      "\n",
      "           1       0.00      0.00      0.00         6\n",
      "           2       0.00      0.00      0.00        14\n",
      "           3       0.31      0.44      0.36        27\n",
      "           4       0.33      0.36      0.35        58\n",
      "           5       0.53      0.55      0.54        97\n",
      "\n",
      "    accuracy                           0.43       202\n",
      "   macro avg       0.23      0.27      0.25       202\n",
      "weighted avg       0.39      0.43      0.41       202\n",
      "\n",
      "[[ 0  0  0  3  3]\n",
      " [ 0  0  0  4 10]\n",
      " [ 0  0 12  7  8]\n",
      " [ 0  0 11 21 26]\n",
      " [ 0  0 16 28 53]]\n",
      "55.96\n",
      "42.57\n",
      "Training Accuracy : 0.5596026490066225\n",
      "Testing Accuracy : 0.42574257425742573\n"
     ]
    },
    {
     "name": "stderr",
     "output_type": "stream",
     "text": [
      "C:\\Users\\marut\\anaconda3\\lib\\site-packages\\sklearn\\metrics\\_classification.py:1221: UndefinedMetricWarning: Precision and F-score are ill-defined and being set to 0.0 in labels with no predicted samples. Use `zero_division` parameter to control this behavior.\n",
      "  _warn_prf(average, modifier, msg_start, len(result))\n"
     ]
    },
    {
     "name": "stdout",
     "output_type": "stream",
     "text": [
      "Training Accuracy : 1.0\n",
      "Testing Accuracy : 0.46534653465346537\n",
      "              precision    recall  f1-score   support\n",
      "\n",
      "           1       0.00      0.00      0.00         6\n",
      "           2       0.00      0.00      0.00        14\n",
      "           3       0.50      0.04      0.07        27\n",
      "           4       0.22      0.03      0.06        58\n",
      "           5       0.48      0.94      0.64        97\n",
      "\n",
      "    accuracy                           0.47       202\n",
      "   macro avg       0.24      0.20      0.15       202\n",
      "weighted avg       0.36      0.47      0.33       202\n",
      "\n"
     ]
    },
    {
     "name": "stderr",
     "output_type": "stream",
     "text": [
      "C:\\Users\\marut\\anaconda3\\lib\\site-packages\\sklearn\\metrics\\_classification.py:1221: UndefinedMetricWarning: Precision and F-score are ill-defined and being set to 0.0 in labels with no predicted samples. Use `zero_division` parameter to control this behavior.\n",
      "  _warn_prf(average, modifier, msg_start, len(result))\n"
     ]
    }
   ],
   "source": [
    "\n",
    "\n",
    "train_x,test_x,train_y,test_y=train_test_split(x1,y1,test_size=0.4,random_state=12)                                              \n",
    "\n",
    "print (len(train_x))\n",
    "print (len(test_x))\n",
    "print (len(train_y))\n",
    "print (len(test_y))\n",
    "\n",
    "from sklearn.neighbors import KNeighborsClassifier\n",
    "\n",
    "model=KNeighborsClassifier(n_neighbors=7).fit(train_x,train_y)\n",
    "\n",
    "accuracy=model.score(test_x,test_y)\n",
    "\n",
    "accuracy\n",
    "\n",
    "knn_predictions = model.predict(test_x)  \n",
    "cm = confusion_matrix(test_y, knn_predictions)\n",
    "\n",
    "y_pred=model.predict(test_x)\n",
    "\n",
    "classificationreport=classification_report(test_y,y_pred)\n",
    "confusionmatrix=confusion_matrix(test_y,y_pred)\n",
    "\n",
    "print(classificationreport)\n",
    "print(confusionmatrix)\n",
    "\n",
    "knn_training_score = round(model.score(train_x, train_y)*100, 2)\n",
    "knn_testing_score = round(model.score(test_x, test_y)*100, 2)\n",
    "\n",
    "print(knn_training_score)\n",
    "print(knn_testing_score)\n",
    "\n",
    "# evaluating the model\n",
    "print(\"Training Accuracy :\", model.score(train_x, train_y))\n",
    "print(\"Testing Accuracy :\", model.score(test_x, test_y))\n",
    "\n",
    "\n",
    "from sklearn.gaussian_process import GaussianProcessClassifier\n",
    "model =  GaussianProcessClassifier(random_state = 0)\n",
    "model.fit(train_x, train_y)\n",
    "\n",
    "y_pred = model.predict(test_x)\n",
    "gp_training_score = round(model.score(train_x, train_y)*100, 2)\n",
    "gp_testing_score = round(model.score(test_x, test_y)*100, 2)\n",
    "# evaluating the model\n",
    "print(\"Training Accuracy :\", model.score(train_x, train_y))\n",
    "print(\"Testing Accuracy :\", model.score(test_x, test_y))\n",
    "\n",
    "# confusion matrix\n",
    "cm = confusion_matrix(test_y, y_pred)\n",
    "\n",
    "# classification report\n",
    "cr = classification_report(test_y, y_pred)\n",
    "print(cr)\n",
    "\n",
    "\n"
   ]
  },
  {
   "cell_type": "code",
   "execution_count": 134,
   "metadata": {},
   "outputs": [
    {
     "name": "stdout",
     "output_type": "stream",
     "text": [
      "GP 0.4305464480874317\n",
      "KNN 0.39087431693989066\n",
      "[array([0.40983607, 0.42622951, 0.43333333, 0.45      , 0.43333333]), array([0.37704918, 0.36065574, 0.35      , 0.45      , 0.41666667])]\n",
      "            model  Training_accuracy  Testing_accuracy\n",
      "0        Guassian             100.00             46.53\n",
      "1  KNN Classifier              55.96             42.57\n"
     ]
    },
    {
     "data": {
      "text/plain": [
       "<matplotlib.axes._subplots.AxesSubplot at 0x2e4799344c0>"
      ]
     },
     "execution_count": 134,
     "metadata": {},
     "output_type": "execute_result"
    },
    {
     "data": {
      "image/png": "[encoded data removed]",
      "text/plain": [
       "<Figure size 432x288 with 1 Axes>"
      ]
     },
     "metadata": {
      "needs_background": "light"
     },
     "output_type": "display_data"
    },
    {
     "data": {
      "image/png": "[encoded data removed]",
      "text/plain": [
       "<Figure size 576x288 with 1 Axes>"
      ]
     },
     "metadata": {
      "needs_background": "light"
     },
     "output_type": "display_data"
    }
   ],
   "source": [
    "\n",
    "# making a list of ml classification models\n",
    "models = []\n",
    "\n",
    "def classification_Models(x_train,x_test, y_train, y_test ):\n",
    "    models.append( ('GP', GaussianProcessClassifier(random_state = 0)) )\n",
    "    models.append( ('KNN', KNeighborsClassifier()) )\n",
    " \n",
    "    modeloutcomes = []\n",
    "    modelnames = []\n",
    "    for name,model in models:\n",
    "        v_results = cross_val_score(model, train_x, train_y,  \n",
    "                                     scoring='accuracy', n_jobs = -1, verbose = 0)\n",
    "        print(name,v_results.mean())\n",
    "        modeloutcomes.append(v_results)\n",
    "        modelnames.append(name)\n",
    "        \n",
    "    print(modeloutcomes)\n",
    "    fig = plt.figure()\n",
    "    ax = fig.add_subplot(111)\n",
    "    ax.set_xticklabels(modelnames)\n",
    "    plt.boxplot(modeloutcomes)\n",
    "        \n",
    "classification_Models(train_x,test_x, train_y, test_y)\n",
    "\n",
    "suit3 = { 'model': ['Guassian', 'KNN Classifier'], 'Training_accuracy': [gp_training_score , knn_training_score], 'Testing_accuracy': [gp_testing_score, knn_testing_score] }\n",
    "suit3_c = pd.DataFrame (suit3, columns = ['model', 'Training_accuracy', 'Testing_accuracy'])\n",
    "print(suit3_c)\n",
    "suit3_c.plot(x=\"model\", kind = \"bar\", figsize=(8,4))\n"
   ]
  },
  {
   "cell_type": "markdown",
   "metadata": {},
   "source": [
    "### Suite3"
   ]
  },
  {
   "cell_type": "markdown",
   "metadata": {},
   "source": [
    "### KNN and Guassion"
   ]
  },
  {
   "cell_type": "code",
   "execution_count": 135,
   "metadata": {},
   "outputs": [
    {
     "name": "stdout",
     "output_type": "stream",
     "text": [
      "403\n",
      "101\n",
      "403\n",
      "101\n",
      "              precision    recall  f1-score   support\n",
      "\n",
      "           1       0.00      0.00      0.00         4\n",
      "           2       0.00      0.00      0.00         5\n",
      "           3       0.35      0.58      0.44        12\n",
      "           4       0.30      0.27      0.28        30\n",
      "           5       0.59      0.64      0.62        50\n",
      "\n",
      "    accuracy                           0.47       101\n",
      "   macro avg       0.25      0.30      0.27       101\n",
      "weighted avg       0.42      0.47      0.44       101\n",
      "\n",
      "[[ 0  0  1  2  1]\n",
      " [ 0  0  1  1  3]\n",
      " [ 0  0  7  2  3]\n",
      " [ 0  0  7  8 15]\n",
      " [ 0  0  4 14 32]]\n",
      "52.85\n",
      "46.53\n",
      "Training Accuracy : 0.5285359801488834\n",
      "Testing Accuracy : 0.46534653465346537\n"
     ]
    },
    {
     "name": "stderr",
     "output_type": "stream",
     "text": [
      "C:\\Users\\marut\\anaconda3\\lib\\site-packages\\sklearn\\metrics\\_classification.py:1221: UndefinedMetricWarning: Precision and F-score are ill-defined and being set to 0.0 in labels with no predicted samples. Use `zero_division` parameter to control this behavior.\n",
      "  _warn_prf(average, modifier, msg_start, len(result))\n"
     ]
    },
    {
     "name": "stdout",
     "output_type": "stream",
     "text": [
      "Training Accuracy : 1.0\n",
      "Testing Accuracy : 0.48514851485148514\n",
      "              precision    recall  f1-score   support\n",
      "\n",
      "           1       0.00      0.00      0.00         4\n",
      "           2       0.00      0.00      0.00         5\n",
      "           3       0.50      0.08      0.14        12\n",
      "           4       0.17      0.03      0.06        30\n",
      "           5       0.51      0.94      0.66        50\n",
      "\n",
      "    accuracy                           0.49       101\n",
      "   macro avg       0.24      0.21      0.17       101\n",
      "weighted avg       0.36      0.49      0.36       101\n",
      "\n"
     ]
    },
    {
     "name": "stderr",
     "output_type": "stream",
     "text": [
      "C:\\Users\\marut\\anaconda3\\lib\\site-packages\\sklearn\\metrics\\_classification.py:1221: UndefinedMetricWarning: Precision and F-score are ill-defined and being set to 0.0 in labels with no predicted samples. Use `zero_division` parameter to control this behavior.\n",
      "  _warn_prf(average, modifier, msg_start, len(result))\n"
     ]
    },
    {
     "name": "stdout",
     "output_type": "stream",
     "text": [
      "GP 0.4343518518518518\n",
      "KNN 0.34496913580246913\n",
      "[array([0.41975309, 0.41975309, 0.41975309, 0.4625    , 0.45      ]), array([0.33333333, 0.39506173, 0.28395062, 0.4       , 0.3125    ])]\n",
      "            model  Training_accuracy  Testing_accuracy\n",
      "0        Guassian             100.00             48.51\n",
      "1  KNN Classifier              52.85             46.53\n"
     ]
    },
    {
     "data": {
      "text/plain": [
       "<matplotlib.axes._subplots.AxesSubplot at 0x2e40194dc40>"
      ]
     },
     "execution_count": 135,
     "metadata": {},
     "output_type": "execute_result"
    },
    {
     "data": {
      "image/png": "[encoded data removed]",
      "text/plain": [
       "<Figure size 432x288 with 1 Axes>"
      ]
     },
     "metadata": {
      "needs_background": "light"
     },
     "output_type": "display_data"
    },
    {
     "data": {
      "image/png": "[encoded data removed]",
      "text/plain": [
       "<Figure size 576x288 with 1 Axes>"
      ]
     },
     "metadata": {
      "needs_background": "light"
     },
     "output_type": "display_data"
    }
   ],
   "source": [
    "\n",
    "\n",
    "train_x,test_x,train_y,test_y=train_test_split(x1,y1,test_size=0.2,random_state=12)                                              \n",
    "\n",
    "print (len(train_x))\n",
    "print (len(test_x))\n",
    "print (len(train_y))\n",
    "print (len(test_y))\n",
    "\n",
    "from sklearn.neighbors import KNeighborsClassifier\n",
    "\n",
    "model=KNeighborsClassifier(n_neighbors=7).fit(train_x,train_y)\n",
    "\n",
    "accuracy=model.score(test_x,test_y)\n",
    "\n",
    "accuracy\n",
    "\n",
    "knn_predictions = model.predict(test_x)  \n",
    "cm = confusion_matrix(test_y, knn_predictions)\n",
    "\n",
    "y_pred=model.predict(test_x)\n",
    "\n",
    "classificationreport=classification_report(test_y,y_pred)\n",
    "confusionmatrix=confusion_matrix(test_y,y_pred)\n",
    "\n",
    "print(classificationreport)\n",
    "print(confusionmatrix)\n",
    "\n",
    "knn_training_score = round(model.score(train_x, train_y)*100, 2)\n",
    "knn_testing_score = round(model.score(test_x, test_y)*100, 2)\n",
    "\n",
    "print(knn_training_score)\n",
    "print(knn_testing_score)\n",
    "\n",
    "# evaluating the model\n",
    "print(\"Training Accuracy :\", model.score(train_x, train_y))\n",
    "print(\"Testing Accuracy :\", model.score(test_x, test_y))\n",
    "\n",
    "\n",
    "from sklearn.gaussian_process import GaussianProcessClassifier\n",
    "model =  GaussianProcessClassifier(random_state = 0)\n",
    "model.fit(train_x, train_y)\n",
    "\n",
    "y_pred = model.predict(test_x)\n",
    "gp_training_score = round(model.score(train_x, train_y)*100, 2)\n",
    "gp_testing_score = round(model.score(test_x, test_y)*100, 2)\n",
    "# evaluating the model\n",
    "print(\"Training Accuracy :\", model.score(train_x, train_y))\n",
    "print(\"Testing Accuracy :\", model.score(test_x, test_y))\n",
    "\n",
    "# confusion matrix\n",
    "cm = confusion_matrix(test_y, y_pred)\n",
    "\n",
    "# classification report\n",
    "cr = classification_report(test_y, y_pred)\n",
    "print(cr)\n",
    "\n",
    "\n",
    "\n",
    "\n",
    "\n",
    "# making a list of ml classification models\n",
    "models = []\n",
    "\n",
    "def classification_Models(x_train,x_test, y_train, y_test ):\n",
    "    models.append( ('GP', GaussianProcessClassifier(random_state = 0)) )\n",
    "    models.append( ('KNN', KNeighborsClassifier()) )\n",
    " \n",
    "    modeloutcomes = []\n",
    "    modelnames = []\n",
    "    for name,model in models:\n",
    "        v_results = cross_val_score(model, train_x, train_y,  \n",
    "                                     scoring='accuracy', n_jobs = -1, verbose = 0)\n",
    "        print(name,v_results.mean())\n",
    "        modeloutcomes.append(v_results)\n",
    "        modelnames.append(name)\n",
    "        \n",
    "    print(modeloutcomes)\n",
    "    fig = plt.figure()\n",
    "    ax = fig.add_subplot(111)\n",
    "    ax.set_xticklabels(modelnames)\n",
    "    plt.boxplot(modeloutcomes)\n",
    "        \n",
    "classification_Models(train_x,test_x, train_y, test_y)\n",
    "\n",
    "suit3 = { 'model': ['Guassian', 'KNN Classifier'], 'Training_accuracy': [gp_training_score , knn_training_score], 'Testing_accuracy': [gp_testing_score, knn_testing_score] }\n",
    "suit3_c = pd.DataFrame (suit3, columns = ['model', 'Training_accuracy', 'Testing_accuracy'])\n",
    "print(suit3_c)\n",
    "suit3_c.plot(x=\"model\", kind = \"bar\", figsize=(8,4))\n",
    "\n",
    "\n"
   ]
  },
  {
   "cell_type": "markdown",
   "metadata": {},
   "source": [
    "### Comparing RandamForest,LogisticRegression,KNNClassifier,Guassian"
   ]
  },
  {
   "cell_type": "code",
   "execution_count": 136,
   "metadata": {},
   "outputs": [
    {
     "name": "stdout",
     "output_type": "stream",
     "text": [
      "RF 0.4143827160493827\n",
      "LG 0.4541666666666666\n",
      "GP 0.4343518518518518\n",
      "KNN 0.34496913580246913\n",
      "[array([0.34567901, 0.4691358 , 0.43209877, 0.425     , 0.4       ]), array([0.41975309, 0.41975309, 0.49382716, 0.475     , 0.4625    ]), array([0.41975309, 0.41975309, 0.41975309, 0.4625    , 0.45      ]), array([0.33333333, 0.39506173, 0.28395062, 0.4       , 0.3125    ])]\n",
      "            model  Training_accuracy  Testing_accuracy\n",
      "0    RandamForest              99.60             47.22\n",
      "1        Logistic              53.97             41.67\n",
      "2        Guassian             100.00             48.51\n",
      "3  KNN Classifier              52.85             46.53\n"
     ]
    },
    {
     "data": {
      "text/plain": [
       "<matplotlib.axes._subplots.AxesSubplot at 0x2e401a3c940>"
      ]
     },
     "execution_count": 136,
     "metadata": {},
     "output_type": "execute_result"
    },
    {
     "data": {
      "image/png": "[encoded data removed]",
      "text/plain": [
       "<Figure size 432x288 with 1 Axes>"
      ]
     },
     "metadata": {
      "needs_background": "light"
     },
     "output_type": "display_data"
    },
    {
     "data": {
      "image/png": "[encoded data removed]",
      "text/plain": [
       "<Figure size 576x288 with 1 Axes>"
      ]
     },
     "metadata": {
      "needs_background": "light"
     },
     "output_type": "display_data"
    }
   ],
   "source": [
    "\n",
    "# making a list of ml classification models\n",
    "models = []\n",
    "\n",
    "def classification_Models(x_train,x_test, y_train, y_test ):\n",
    "    models.append( ('RF', RandomForestClassifier(random_state = 0)) )\n",
    "    models.append( ('LG', LogisticRegression(random_state = 0)) )\n",
    "    models.append( ('GP', GaussianProcessClassifier(random_state = 0)) )\n",
    "    models.append( ('KNN', KNeighborsClassifier()) )\n",
    " \n",
    "    modeloutcomes = []\n",
    "    modelnames = []\n",
    "    for name,model in models:\n",
    "        v_results = cross_val_score(model, train_x, train_y,  \n",
    "                                     scoring='accuracy', n_jobs = -1, verbose = 0)\n",
    "        print(name,v_results.mean())\n",
    "        modeloutcomes.append(v_results)\n",
    "        modelnames.append(name)\n",
    "        \n",
    "    print(modeloutcomes)\n",
    "    fig = plt.figure()\n",
    "    ax = fig.add_subplot(111)\n",
    "    ax.set_xticklabels(modelnames)\n",
    "    plt.boxplot(modeloutcomes)\n",
    "        \n",
    "classification_Models(train_x,test_x, train_y, test_y)\n",
    "\n",
    "suit3 = { 'model': ['RandamForest','Logistic','Guassian', 'KNN Classifier'], 'Training_accuracy': [radm_clf_training_score,logistic_training_score,gp_training_score , knn_training_score], 'Testing_accuracy': [radm_clf_testing_score,logistic_testing_score,gp_testing_score, knn_testing_score] }\n",
    "suit3_c = pd.DataFrame (suit3, columns = ['model', 'Training_accuracy', 'Testing_accuracy'])\n",
    "print(suit3_c)\n",
    "suit3_c.plot(x=\"model\", kind = \"bar\", figsize=(8,4))\n"
   ]
  },
  {
   "cell_type": "code",
   "execution_count": null,
   "metadata": {},
   "outputs": [],
   "source": []
  }
 ],
 "metadata": {
  "kernelspec": {
   "display_name": "Python 3",
   "language": "python",
   "name": "python3"
  },
  "language_info": {
   "codemirror_mode": {
    "name": "ipython",
    "version": 3
   },
   "file_extension": ".py",
   "mimetype": "text/x-python",
   "name": "python",
   "nbconvert_exporter": "python",
   "pygments_lexer": "ipython3",
   "version": "3.7.4"
  }
 },
 "nbformat": 4,
 "nbformat_minor": 2
}
